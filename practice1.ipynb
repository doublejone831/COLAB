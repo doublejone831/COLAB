{
  "nbformat": 4,
  "nbformat_minor": 0,
  "metadata": {
    "colab": {
      "name": "practice1.ipynb",
      "provenance": [],
      "collapsed_sections": [],
      "mount_file_id": "1I6ay9MKXHHVfB6vcPxFB7iyuPcoyvxm6",
      "authorship_tag": "ABX9TyNlYa9TmDcU70V2oRr60F+i",
      "include_colab_link": true
    },
    "kernelspec": {
      "name": "python3",
      "display_name": "Python 3"
    },
    "language_info": {
      "name": "python"
    }
  },
  "cells": [
    {
      "cell_type": "markdown",
      "metadata": {
        "id": "view-in-github",
        "colab_type": "text"
      },
      "source": [
        "<a href=\"https://colab.research.google.com/github/doublejone831/COLAB/blob/main/practice1.ipynb\" target=\"_parent\"><img src=\"https://colab.research.google.com/assets/colab-badge.svg\" alt=\"Open In Colab\"/></a>"
      ]
    },
    {
      "cell_type": "code",
      "metadata": {
        "id": "3kbQ2OwAhrKU",
        "colab": {
          "base_uri": "https://localhost:8080/"
        },
        "outputId": "3f037a0f-50f6-4dd4-dd4f-cb245a7b22f1"
      },
      "source": [
        "import pandas as pd\n",
        "from google.colab import drive\n",
        "drive.mount('/content/drive')"
      ],
      "execution_count": 2,
      "outputs": [
        {
          "output_type": "stream",
          "text": [
            "Drive already mounted at /content/drive; to attempt to forcibly remount, call drive.mount(\"/content/drive\", force_remount=True).\n"
          ],
          "name": "stdout"
        }
      ]
    },
    {
      "cell_type": "code",
      "metadata": {
        "colab": {
          "base_uri": "https://localhost:8080/",
          "height": 359
        },
        "id": "FfHmo7eoP5dT",
        "outputId": "f0584b2c-f49f-4709-dd05-b9e813076cca"
      },
      "source": [
        "data = pd.read_csv('/content/drive/MyDrive/Pandas/tutorial data/대한민국_주요_도시_인구수.csv')\n",
        "data"
      ],
      "execution_count": 3,
      "outputs": [
        {
          "output_type": "execute_result",
          "data": {
            "text/html": [
              "<div>\n",
              "<style scoped>\n",
              "    .dataframe tbody tr th:only-of-type {\n",
              "        vertical-align: middle;\n",
              "    }\n",
              "\n",
              "    .dataframe tbody tr th {\n",
              "        vertical-align: top;\n",
              "    }\n",
              "\n",
              "    .dataframe thead th {\n",
              "        text-align: right;\n",
              "    }\n",
              "</style>\n",
              "<table border=\"1\" class=\"dataframe\">\n",
              "  <thead>\n",
              "    <tr style=\"text-align: right;\">\n",
              "      <th></th>\n",
              "      <th>도시</th>\n",
              "      <th>인구수</th>\n",
              "    </tr>\n",
              "  </thead>\n",
              "  <tbody>\n",
              "    <tr>\n",
              "      <th>0</th>\n",
              "      <td>서울</td>\n",
              "      <td>9741381</td>\n",
              "    </tr>\n",
              "    <tr>\n",
              "      <th>1</th>\n",
              "      <td>부산</td>\n",
              "      <td>3416918</td>\n",
              "    </tr>\n",
              "    <tr>\n",
              "      <th>2</th>\n",
              "      <td>인천</td>\n",
              "      <td>2925967</td>\n",
              "    </tr>\n",
              "    <tr>\n",
              "      <th>3</th>\n",
              "      <td>대구</td>\n",
              "      <td>2453041</td>\n",
              "    </tr>\n",
              "    <tr>\n",
              "      <th>4</th>\n",
              "      <td>대전</td>\n",
              "      <td>1525849</td>\n",
              "    </tr>\n",
              "    <tr>\n",
              "      <th>5</th>\n",
              "      <td>광주</td>\n",
              "      <td>1496172</td>\n",
              "    </tr>\n",
              "    <tr>\n",
              "      <th>6</th>\n",
              "      <td>수원</td>\n",
              "      <td>1193894</td>\n",
              "    </tr>\n",
              "    <tr>\n",
              "      <th>7</th>\n",
              "      <td>울산</td>\n",
              "      <td>1147037</td>\n",
              "    </tr>\n",
              "    <tr>\n",
              "      <th>8</th>\n",
              "      <td>고양</td>\n",
              "      <td>1068641</td>\n",
              "    </tr>\n",
              "    <tr>\n",
              "      <th>9</th>\n",
              "      <td>용인</td>\n",
              "      <td>1061440</td>\n",
              "    </tr>\n",
              "  </tbody>\n",
              "</table>\n",
              "</div>"
            ],
            "text/plain": [
              "   도시      인구수\n",
              "0  서울  9741381\n",
              "1  부산  3416918\n",
              "2  인천  2925967\n",
              "3  대구  2453041\n",
              "4  대전  1525849\n",
              "5  광주  1496172\n",
              "6  수원  1193894\n",
              "7  울산  1147037\n",
              "8  고양  1068641\n",
              "9  용인  1061440"
            ]
          },
          "metadata": {
            "tags": []
          },
          "execution_count": 3
        }
      ]
    },
    {
      "cell_type": "code",
      "metadata": {
        "colab": {
          "base_uri": "https://localhost:8080/"
        },
        "id": "a5J_xLvJQm55",
        "outputId": "5ce0d1e3-a816-4e0d-d437-9edd3199a459"
      },
      "source": [
        "data.shape #자료의 행과 열을 출력"
      ],
      "execution_count": 4,
      "outputs": [
        {
          "output_type": "execute_result",
          "data": {
            "text/plain": [
              "(10, 2)"
            ]
          },
          "metadata": {
            "tags": []
          },
          "execution_count": 4
        }
      ]
    },
    {
      "cell_type": "code",
      "metadata": {
        "colab": {
          "base_uri": "https://localhost:8080/",
          "height": 142
        },
        "id": "8-gjGkNwQzCB",
        "outputId": "adafd53f-d476-4e49-9220-69c121f5d35b"
      },
      "source": [
        "data.head(3) #위에서부터 3개 행의 data출력"
      ],
      "execution_count": 5,
      "outputs": [
        {
          "output_type": "execute_result",
          "data": {
            "text/html": [
              "<div>\n",
              "<style scoped>\n",
              "    .dataframe tbody tr th:only-of-type {\n",
              "        vertical-align: middle;\n",
              "    }\n",
              "\n",
              "    .dataframe tbody tr th {\n",
              "        vertical-align: top;\n",
              "    }\n",
              "\n",
              "    .dataframe thead th {\n",
              "        text-align: right;\n",
              "    }\n",
              "</style>\n",
              "<table border=\"1\" class=\"dataframe\">\n",
              "  <thead>\n",
              "    <tr style=\"text-align: right;\">\n",
              "      <th></th>\n",
              "      <th>도시</th>\n",
              "      <th>인구수</th>\n",
              "    </tr>\n",
              "  </thead>\n",
              "  <tbody>\n",
              "    <tr>\n",
              "      <th>0</th>\n",
              "      <td>서울</td>\n",
              "      <td>9741381</td>\n",
              "    </tr>\n",
              "    <tr>\n",
              "      <th>1</th>\n",
              "      <td>부산</td>\n",
              "      <td>3416918</td>\n",
              "    </tr>\n",
              "    <tr>\n",
              "      <th>2</th>\n",
              "      <td>인천</td>\n",
              "      <td>2925967</td>\n",
              "    </tr>\n",
              "  </tbody>\n",
              "</table>\n",
              "</div>"
            ],
            "text/plain": [
              "   도시      인구수\n",
              "0  서울  9741381\n",
              "1  부산  3416918\n",
              "2  인천  2925967"
            ]
          },
          "metadata": {
            "tags": []
          },
          "execution_count": 5
        }
      ]
    },
    {
      "cell_type": "code",
      "metadata": {
        "colab": {
          "base_uri": "https://localhost:8080/",
          "height": 142
        },
        "id": "HoOv0l2FQ8cR",
        "outputId": "640f6275-d065-48dc-e134-514344311ade"
      },
      "source": [
        "data.tail(3) # 밑에서 부터 3개 행의 data출력"
      ],
      "execution_count": 6,
      "outputs": [
        {
          "output_type": "execute_result",
          "data": {
            "text/html": [
              "<div>\n",
              "<style scoped>\n",
              "    .dataframe tbody tr th:only-of-type {\n",
              "        vertical-align: middle;\n",
              "    }\n",
              "\n",
              "    .dataframe tbody tr th {\n",
              "        vertical-align: top;\n",
              "    }\n",
              "\n",
              "    .dataframe thead th {\n",
              "        text-align: right;\n",
              "    }\n",
              "</style>\n",
              "<table border=\"1\" class=\"dataframe\">\n",
              "  <thead>\n",
              "    <tr style=\"text-align: right;\">\n",
              "      <th></th>\n",
              "      <th>도시</th>\n",
              "      <th>인구수</th>\n",
              "    </tr>\n",
              "  </thead>\n",
              "  <tbody>\n",
              "    <tr>\n",
              "      <th>7</th>\n",
              "      <td>울산</td>\n",
              "      <td>1147037</td>\n",
              "    </tr>\n",
              "    <tr>\n",
              "      <th>8</th>\n",
              "      <td>고양</td>\n",
              "      <td>1068641</td>\n",
              "    </tr>\n",
              "    <tr>\n",
              "      <th>9</th>\n",
              "      <td>용인</td>\n",
              "      <td>1061440</td>\n",
              "    </tr>\n",
              "  </tbody>\n",
              "</table>\n",
              "</div>"
            ],
            "text/plain": [
              "   도시      인구수\n",
              "7  울산  1147037\n",
              "8  고양  1068641\n",
              "9  용인  1061440"
            ]
          },
          "metadata": {
            "tags": []
          },
          "execution_count": 6
        }
      ]
    },
    {
      "cell_type": "code",
      "metadata": {
        "colab": {
          "base_uri": "https://localhost:8080/"
        },
        "id": "5ucI46WSRCTx",
        "outputId": "51d42d3a-46c1-469a-f68c-0bfc60d70f73"
      },
      "source": [
        "data.info() #dataframe의 정보"
      ],
      "execution_count": 7,
      "outputs": [
        {
          "output_type": "stream",
          "text": [
            "<class 'pandas.core.frame.DataFrame'>\n",
            "RangeIndex: 10 entries, 0 to 9\n",
            "Data columns (total 2 columns):\n",
            " #   Column  Non-Null Count  Dtype \n",
            "---  ------  --------------  ----- \n",
            " 0   도시      10 non-null     object\n",
            " 1   인구수     10 non-null     int64 \n",
            "dtypes: int64(1), object(1)\n",
            "memory usage: 288.0+ bytes\n"
          ],
          "name": "stdout"
        }
      ]
    },
    {
      "cell_type": "code",
      "metadata": {
        "colab": {
          "base_uri": "https://localhost:8080/"
        },
        "id": "HnQbQqGRRH_x",
        "outputId": "4df9c961-5e1c-412f-ffb9-ccb8303edc70"
      },
      "source": [
        "data['도시'] # dataframe뒤에 대괄호를 붙이고 column명을 입력하여 해당 column만을 호출"
      ],
      "execution_count": 8,
      "outputs": [
        {
          "output_type": "execute_result",
          "data": {
            "text/plain": [
              "0    서울\n",
              "1    부산\n",
              "2    인천\n",
              "3    대구\n",
              "4    대전\n",
              "5    광주\n",
              "6    수원\n",
              "7    울산\n",
              "8    고양\n",
              "9    용인\n",
              "Name: 도시, dtype: object"
            ]
          },
          "metadata": {
            "tags": []
          },
          "execution_count": 8
        }
      ]
    },
    {
      "cell_type": "code",
      "metadata": {
        "colab": {
          "base_uri": "https://localhost:8080/"
        },
        "id": "xvJPDO-FRVpR",
        "outputId": "9d402668-29dd-4316-97de-91e92f73ec5d"
      },
      "source": [
        "data.도시 #또는 .column명으로 불러올 수도 있음 But column명에 띄어 쓰기가 있을경우 사용불가능"
      ],
      "execution_count": 9,
      "outputs": [
        {
          "output_type": "execute_result",
          "data": {
            "text/plain": [
              "0    서울\n",
              "1    부산\n",
              "2    인천\n",
              "3    대구\n",
              "4    대전\n",
              "5    광주\n",
              "6    수원\n",
              "7    울산\n",
              "8    고양\n",
              "9    용인\n",
              "Name: 도시, dtype: object"
            ]
          },
          "metadata": {
            "tags": []
          },
          "execution_count": 9
        }
      ]
    },
    {
      "cell_type": "markdown",
      "metadata": {
        "id": "OfUzlPBnRu7B"
      },
      "source": [
        "이하 데이터 프레임 생성하기"
      ]
    },
    {
      "cell_type": "code",
      "metadata": {
        "id": "8SGzjd8kRw6Q"
      },
      "source": [
        "city = ['서울','부산','인천','대구','대전','광주','수원','울산','고양','용인']\n",
        "population = [9741381, 3416918, 2925967, 2453041, 1525849, 1496172, 1193894, 1147037, 1068641, 1061440]"
      ],
      "execution_count": 10,
      "outputs": []
    },
    {
      "cell_type": "code",
      "metadata": {
        "colab": {
          "base_uri": "https://localhost:8080/",
          "height": 359
        },
        "id": "3B4TfhgcSX67",
        "outputId": "5f632a0c-dc29-4f7a-80d6-b8a0c5d7c0f7"
      },
      "source": [
        "data = pd.DataFrame(columns = ['도시', '인구수'], index=range(10))\n",
        "data #데이터 없는 dataFrame생성"
      ],
      "execution_count": 11,
      "outputs": [
        {
          "output_type": "execute_result",
          "data": {
            "text/html": [
              "<div>\n",
              "<style scoped>\n",
              "    .dataframe tbody tr th:only-of-type {\n",
              "        vertical-align: middle;\n",
              "    }\n",
              "\n",
              "    .dataframe tbody tr th {\n",
              "        vertical-align: top;\n",
              "    }\n",
              "\n",
              "    .dataframe thead th {\n",
              "        text-align: right;\n",
              "    }\n",
              "</style>\n",
              "<table border=\"1\" class=\"dataframe\">\n",
              "  <thead>\n",
              "    <tr style=\"text-align: right;\">\n",
              "      <th></th>\n",
              "      <th>도시</th>\n",
              "      <th>인구수</th>\n",
              "    </tr>\n",
              "  </thead>\n",
              "  <tbody>\n",
              "    <tr>\n",
              "      <th>0</th>\n",
              "      <td>NaN</td>\n",
              "      <td>NaN</td>\n",
              "    </tr>\n",
              "    <tr>\n",
              "      <th>1</th>\n",
              "      <td>NaN</td>\n",
              "      <td>NaN</td>\n",
              "    </tr>\n",
              "    <tr>\n",
              "      <th>2</th>\n",
              "      <td>NaN</td>\n",
              "      <td>NaN</td>\n",
              "    </tr>\n",
              "    <tr>\n",
              "      <th>3</th>\n",
              "      <td>NaN</td>\n",
              "      <td>NaN</td>\n",
              "    </tr>\n",
              "    <tr>\n",
              "      <th>4</th>\n",
              "      <td>NaN</td>\n",
              "      <td>NaN</td>\n",
              "    </tr>\n",
              "    <tr>\n",
              "      <th>5</th>\n",
              "      <td>NaN</td>\n",
              "      <td>NaN</td>\n",
              "    </tr>\n",
              "    <tr>\n",
              "      <th>6</th>\n",
              "      <td>NaN</td>\n",
              "      <td>NaN</td>\n",
              "    </tr>\n",
              "    <tr>\n",
              "      <th>7</th>\n",
              "      <td>NaN</td>\n",
              "      <td>NaN</td>\n",
              "    </tr>\n",
              "    <tr>\n",
              "      <th>8</th>\n",
              "      <td>NaN</td>\n",
              "      <td>NaN</td>\n",
              "    </tr>\n",
              "    <tr>\n",
              "      <th>9</th>\n",
              "      <td>NaN</td>\n",
              "      <td>NaN</td>\n",
              "    </tr>\n",
              "  </tbody>\n",
              "</table>\n",
              "</div>"
            ],
            "text/plain": [
              "    도시  인구수\n",
              "0  NaN  NaN\n",
              "1  NaN  NaN\n",
              "2  NaN  NaN\n",
              "3  NaN  NaN\n",
              "4  NaN  NaN\n",
              "5  NaN  NaN\n",
              "6  NaN  NaN\n",
              "7  NaN  NaN\n",
              "8  NaN  NaN\n",
              "9  NaN  NaN"
            ]
          },
          "metadata": {
            "tags": []
          },
          "execution_count": 11
        }
      ]
    },
    {
      "cell_type": "code",
      "metadata": {
        "colab": {
          "base_uri": "https://localhost:8080/",
          "height": 359
        },
        "id": "rrTwRHsLSEOS",
        "outputId": "6c96d82b-dbef-4ffa-8579-2104bf801a70"
      },
      "source": [
        "#리스트의 정보를 dataframe으로 불러오기\n",
        "data['도시'] = city\n",
        "data['인구수'] = population\n",
        "data"
      ],
      "execution_count": 12,
      "outputs": [
        {
          "output_type": "execute_result",
          "data": {
            "text/html": [
              "<div>\n",
              "<style scoped>\n",
              "    .dataframe tbody tr th:only-of-type {\n",
              "        vertical-align: middle;\n",
              "    }\n",
              "\n",
              "    .dataframe tbody tr th {\n",
              "        vertical-align: top;\n",
              "    }\n",
              "\n",
              "    .dataframe thead th {\n",
              "        text-align: right;\n",
              "    }\n",
              "</style>\n",
              "<table border=\"1\" class=\"dataframe\">\n",
              "  <thead>\n",
              "    <tr style=\"text-align: right;\">\n",
              "      <th></th>\n",
              "      <th>도시</th>\n",
              "      <th>인구수</th>\n",
              "    </tr>\n",
              "  </thead>\n",
              "  <tbody>\n",
              "    <tr>\n",
              "      <th>0</th>\n",
              "      <td>서울</td>\n",
              "      <td>9741381</td>\n",
              "    </tr>\n",
              "    <tr>\n",
              "      <th>1</th>\n",
              "      <td>부산</td>\n",
              "      <td>3416918</td>\n",
              "    </tr>\n",
              "    <tr>\n",
              "      <th>2</th>\n",
              "      <td>인천</td>\n",
              "      <td>2925967</td>\n",
              "    </tr>\n",
              "    <tr>\n",
              "      <th>3</th>\n",
              "      <td>대구</td>\n",
              "      <td>2453041</td>\n",
              "    </tr>\n",
              "    <tr>\n",
              "      <th>4</th>\n",
              "      <td>대전</td>\n",
              "      <td>1525849</td>\n",
              "    </tr>\n",
              "    <tr>\n",
              "      <th>5</th>\n",
              "      <td>광주</td>\n",
              "      <td>1496172</td>\n",
              "    </tr>\n",
              "    <tr>\n",
              "      <th>6</th>\n",
              "      <td>수원</td>\n",
              "      <td>1193894</td>\n",
              "    </tr>\n",
              "    <tr>\n",
              "      <th>7</th>\n",
              "      <td>울산</td>\n",
              "      <td>1147037</td>\n",
              "    </tr>\n",
              "    <tr>\n",
              "      <th>8</th>\n",
              "      <td>고양</td>\n",
              "      <td>1068641</td>\n",
              "    </tr>\n",
              "    <tr>\n",
              "      <th>9</th>\n",
              "      <td>용인</td>\n",
              "      <td>1061440</td>\n",
              "    </tr>\n",
              "  </tbody>\n",
              "</table>\n",
              "</div>"
            ],
            "text/plain": [
              "   도시      인구수\n",
              "0  서울  9741381\n",
              "1  부산  3416918\n",
              "2  인천  2925967\n",
              "3  대구  2453041\n",
              "4  대전  1525849\n",
              "5  광주  1496172\n",
              "6  수원  1193894\n",
              "7  울산  1147037\n",
              "8  고양  1068641\n",
              "9  용인  1061440"
            ]
          },
          "metadata": {
            "tags": []
          },
          "execution_count": 12
        }
      ]
    },
    {
      "cell_type": "code",
      "metadata": {
        "colab": {
          "base_uri": "https://localhost:8080/",
          "height": 359
        },
        "id": "HTXFPiZ_TneS",
        "outputId": "cf334723-cf3b-4440-e750-9cb9587ed2c6"
      },
      "source": [
        "#dictionary를 이용해 dataFrame생성\n",
        "data_dict = {'도시' : city, '인구수':population}\n",
        "data = pd.DataFrame(data_dict)\n",
        "data"
      ],
      "execution_count": 13,
      "outputs": [
        {
          "output_type": "execute_result",
          "data": {
            "text/html": [
              "<div>\n",
              "<style scoped>\n",
              "    .dataframe tbody tr th:only-of-type {\n",
              "        vertical-align: middle;\n",
              "    }\n",
              "\n",
              "    .dataframe tbody tr th {\n",
              "        vertical-align: top;\n",
              "    }\n",
              "\n",
              "    .dataframe thead th {\n",
              "        text-align: right;\n",
              "    }\n",
              "</style>\n",
              "<table border=\"1\" class=\"dataframe\">\n",
              "  <thead>\n",
              "    <tr style=\"text-align: right;\">\n",
              "      <th></th>\n",
              "      <th>도시</th>\n",
              "      <th>인구수</th>\n",
              "    </tr>\n",
              "  </thead>\n",
              "  <tbody>\n",
              "    <tr>\n",
              "      <th>0</th>\n",
              "      <td>서울</td>\n",
              "      <td>9741381</td>\n",
              "    </tr>\n",
              "    <tr>\n",
              "      <th>1</th>\n",
              "      <td>부산</td>\n",
              "      <td>3416918</td>\n",
              "    </tr>\n",
              "    <tr>\n",
              "      <th>2</th>\n",
              "      <td>인천</td>\n",
              "      <td>2925967</td>\n",
              "    </tr>\n",
              "    <tr>\n",
              "      <th>3</th>\n",
              "      <td>대구</td>\n",
              "      <td>2453041</td>\n",
              "    </tr>\n",
              "    <tr>\n",
              "      <th>4</th>\n",
              "      <td>대전</td>\n",
              "      <td>1525849</td>\n",
              "    </tr>\n",
              "    <tr>\n",
              "      <th>5</th>\n",
              "      <td>광주</td>\n",
              "      <td>1496172</td>\n",
              "    </tr>\n",
              "    <tr>\n",
              "      <th>6</th>\n",
              "      <td>수원</td>\n",
              "      <td>1193894</td>\n",
              "    </tr>\n",
              "    <tr>\n",
              "      <th>7</th>\n",
              "      <td>울산</td>\n",
              "      <td>1147037</td>\n",
              "    </tr>\n",
              "    <tr>\n",
              "      <th>8</th>\n",
              "      <td>고양</td>\n",
              "      <td>1068641</td>\n",
              "    </tr>\n",
              "    <tr>\n",
              "      <th>9</th>\n",
              "      <td>용인</td>\n",
              "      <td>1061440</td>\n",
              "    </tr>\n",
              "  </tbody>\n",
              "</table>\n",
              "</div>"
            ],
            "text/plain": [
              "   도시      인구수\n",
              "0  서울  9741381\n",
              "1  부산  3416918\n",
              "2  인천  2925967\n",
              "3  대구  2453041\n",
              "4  대전  1525849\n",
              "5  광주  1496172\n",
              "6  수원  1193894\n",
              "7  울산  1147037\n",
              "8  고양  1068641\n",
              "9  용인  1061440"
            ]
          },
          "metadata": {
            "tags": []
          },
          "execution_count": 13
        }
      ]
    },
    {
      "cell_type": "code",
      "metadata": {
        "colab": {
          "base_uri": "https://localhost:8080/",
          "height": 359
        },
        "id": "pnhkaEKZT6hx",
        "outputId": "0066aef6-f58f-4c7b-a95e-8062e296dc61"
      },
      "source": [
        "#DataFrame을 CSV로 저장 (to_csv이용)\n",
        "directory = '/content/drive/MyDrive/Pandas/tutorial data/data02.csv'\n",
        "data.to_csv(directory)\n",
        "pd.read_csv(directory)\n",
        "#unnamed column은 인덱스또한 저장하게 되면서 생긴 오류 \n",
        "#저장시 뒤에 인자에 index = False를 추가하여 인덱스를 저장하지 않을수 있음."
      ],
      "execution_count": 14,
      "outputs": [
        {
          "output_type": "execute_result",
          "data": {
            "text/html": [
              "<div>\n",
              "<style scoped>\n",
              "    .dataframe tbody tr th:only-of-type {\n",
              "        vertical-align: middle;\n",
              "    }\n",
              "\n",
              "    .dataframe tbody tr th {\n",
              "        vertical-align: top;\n",
              "    }\n",
              "\n",
              "    .dataframe thead th {\n",
              "        text-align: right;\n",
              "    }\n",
              "</style>\n",
              "<table border=\"1\" class=\"dataframe\">\n",
              "  <thead>\n",
              "    <tr style=\"text-align: right;\">\n",
              "      <th></th>\n",
              "      <th>Unnamed: 0</th>\n",
              "      <th>도시</th>\n",
              "      <th>인구수</th>\n",
              "    </tr>\n",
              "  </thead>\n",
              "  <tbody>\n",
              "    <tr>\n",
              "      <th>0</th>\n",
              "      <td>0</td>\n",
              "      <td>서울</td>\n",
              "      <td>9741381</td>\n",
              "    </tr>\n",
              "    <tr>\n",
              "      <th>1</th>\n",
              "      <td>1</td>\n",
              "      <td>부산</td>\n",
              "      <td>3416918</td>\n",
              "    </tr>\n",
              "    <tr>\n",
              "      <th>2</th>\n",
              "      <td>2</td>\n",
              "      <td>인천</td>\n",
              "      <td>2925967</td>\n",
              "    </tr>\n",
              "    <tr>\n",
              "      <th>3</th>\n",
              "      <td>3</td>\n",
              "      <td>대구</td>\n",
              "      <td>2453041</td>\n",
              "    </tr>\n",
              "    <tr>\n",
              "      <th>4</th>\n",
              "      <td>4</td>\n",
              "      <td>대전</td>\n",
              "      <td>1525849</td>\n",
              "    </tr>\n",
              "    <tr>\n",
              "      <th>5</th>\n",
              "      <td>5</td>\n",
              "      <td>광주</td>\n",
              "      <td>1496172</td>\n",
              "    </tr>\n",
              "    <tr>\n",
              "      <th>6</th>\n",
              "      <td>6</td>\n",
              "      <td>수원</td>\n",
              "      <td>1193894</td>\n",
              "    </tr>\n",
              "    <tr>\n",
              "      <th>7</th>\n",
              "      <td>7</td>\n",
              "      <td>울산</td>\n",
              "      <td>1147037</td>\n",
              "    </tr>\n",
              "    <tr>\n",
              "      <th>8</th>\n",
              "      <td>8</td>\n",
              "      <td>고양</td>\n",
              "      <td>1068641</td>\n",
              "    </tr>\n",
              "    <tr>\n",
              "      <th>9</th>\n",
              "      <td>9</td>\n",
              "      <td>용인</td>\n",
              "      <td>1061440</td>\n",
              "    </tr>\n",
              "  </tbody>\n",
              "</table>\n",
              "</div>"
            ],
            "text/plain": [
              "   Unnamed: 0  도시      인구수\n",
              "0           0  서울  9741381\n",
              "1           1  부산  3416918\n",
              "2           2  인천  2925967\n",
              "3           3  대구  2453041\n",
              "4           4  대전  1525849\n",
              "5           5  광주  1496172\n",
              "6           6  수원  1193894\n",
              "7           7  울산  1147037\n",
              "8           8  고양  1068641\n",
              "9           9  용인  1061440"
            ]
          },
          "metadata": {
            "tags": []
          },
          "execution_count": 14
        }
      ]
    },
    {
      "cell_type": "code",
      "metadata": {
        "colab": {
          "base_uri": "https://localhost:8080/",
          "height": 359
        },
        "id": "ZArZKJZ2U2sI",
        "outputId": "6320f353-280d-4f90-c955-84126abef5b3"
      },
      "source": [
        "directory = '/content/drive/MyDrive/Pandas/tutorial data/data002.csv'\n",
        "data.to_csv(directory, index = False)\n",
        "pd.read_csv(directory)"
      ],
      "execution_count": 15,
      "outputs": [
        {
          "output_type": "execute_result",
          "data": {
            "text/html": [
              "<div>\n",
              "<style scoped>\n",
              "    .dataframe tbody tr th:only-of-type {\n",
              "        vertical-align: middle;\n",
              "    }\n",
              "\n",
              "    .dataframe tbody tr th {\n",
              "        vertical-align: top;\n",
              "    }\n",
              "\n",
              "    .dataframe thead th {\n",
              "        text-align: right;\n",
              "    }\n",
              "</style>\n",
              "<table border=\"1\" class=\"dataframe\">\n",
              "  <thead>\n",
              "    <tr style=\"text-align: right;\">\n",
              "      <th></th>\n",
              "      <th>도시</th>\n",
              "      <th>인구수</th>\n",
              "    </tr>\n",
              "  </thead>\n",
              "  <tbody>\n",
              "    <tr>\n",
              "      <th>0</th>\n",
              "      <td>서울</td>\n",
              "      <td>9741381</td>\n",
              "    </tr>\n",
              "    <tr>\n",
              "      <th>1</th>\n",
              "      <td>부산</td>\n",
              "      <td>3416918</td>\n",
              "    </tr>\n",
              "    <tr>\n",
              "      <th>2</th>\n",
              "      <td>인천</td>\n",
              "      <td>2925967</td>\n",
              "    </tr>\n",
              "    <tr>\n",
              "      <th>3</th>\n",
              "      <td>대구</td>\n",
              "      <td>2453041</td>\n",
              "    </tr>\n",
              "    <tr>\n",
              "      <th>4</th>\n",
              "      <td>대전</td>\n",
              "      <td>1525849</td>\n",
              "    </tr>\n",
              "    <tr>\n",
              "      <th>5</th>\n",
              "      <td>광주</td>\n",
              "      <td>1496172</td>\n",
              "    </tr>\n",
              "    <tr>\n",
              "      <th>6</th>\n",
              "      <td>수원</td>\n",
              "      <td>1193894</td>\n",
              "    </tr>\n",
              "    <tr>\n",
              "      <th>7</th>\n",
              "      <td>울산</td>\n",
              "      <td>1147037</td>\n",
              "    </tr>\n",
              "    <tr>\n",
              "      <th>8</th>\n",
              "      <td>고양</td>\n",
              "      <td>1068641</td>\n",
              "    </tr>\n",
              "    <tr>\n",
              "      <th>9</th>\n",
              "      <td>용인</td>\n",
              "      <td>1061440</td>\n",
              "    </tr>\n",
              "  </tbody>\n",
              "</table>\n",
              "</div>"
            ],
            "text/plain": [
              "   도시      인구수\n",
              "0  서울  9741381\n",
              "1  부산  3416918\n",
              "2  인천  2925967\n",
              "3  대구  2453041\n",
              "4  대전  1525849\n",
              "5  광주  1496172\n",
              "6  수원  1193894\n",
              "7  울산  1147037\n",
              "8  고양  1068641\n",
              "9  용인  1061440"
            ]
          },
          "metadata": {
            "tags": []
          },
          "execution_count": 15
        }
      ]
    },
    {
      "cell_type": "markdown",
      "metadata": {
        "id": "yXVeJHf5VL_p"
      },
      "source": [
        "기존 DATAFrame에 column과 row 추가"
      ]
    },
    {
      "cell_type": "code",
      "metadata": {
        "colab": {
          "base_uri": "https://localhost:8080/",
          "height": 359
        },
        "id": "pmqY0MGUVS6I",
        "outputId": "66cba939-b8d6-4e14-f638-82cbb496a0f2"
      },
      "source": [
        "man = [4757642, 1680933, 1472081, 1218326, 765718, 745122, 601097, 589233, 523803, 526824]\n",
        "woman = [4984229, 1735985, 1453886, 1234715, 760131, 751050, 592797, 557804, 544838, 534617]\n",
        "data['남자'] = man\n",
        "data['여자'] = woman\n",
        "data"
      ],
      "execution_count": 16,
      "outputs": [
        {
          "output_type": "execute_result",
          "data": {
            "text/html": [
              "<div>\n",
              "<style scoped>\n",
              "    .dataframe tbody tr th:only-of-type {\n",
              "        vertical-align: middle;\n",
              "    }\n",
              "\n",
              "    .dataframe tbody tr th {\n",
              "        vertical-align: top;\n",
              "    }\n",
              "\n",
              "    .dataframe thead th {\n",
              "        text-align: right;\n",
              "    }\n",
              "</style>\n",
              "<table border=\"1\" class=\"dataframe\">\n",
              "  <thead>\n",
              "    <tr style=\"text-align: right;\">\n",
              "      <th></th>\n",
              "      <th>도시</th>\n",
              "      <th>인구수</th>\n",
              "      <th>남자</th>\n",
              "      <th>여자</th>\n",
              "    </tr>\n",
              "  </thead>\n",
              "  <tbody>\n",
              "    <tr>\n",
              "      <th>0</th>\n",
              "      <td>서울</td>\n",
              "      <td>9741381</td>\n",
              "      <td>4757642</td>\n",
              "      <td>4984229</td>\n",
              "    </tr>\n",
              "    <tr>\n",
              "      <th>1</th>\n",
              "      <td>부산</td>\n",
              "      <td>3416918</td>\n",
              "      <td>1680933</td>\n",
              "      <td>1735985</td>\n",
              "    </tr>\n",
              "    <tr>\n",
              "      <th>2</th>\n",
              "      <td>인천</td>\n",
              "      <td>2925967</td>\n",
              "      <td>1472081</td>\n",
              "      <td>1453886</td>\n",
              "    </tr>\n",
              "    <tr>\n",
              "      <th>3</th>\n",
              "      <td>대구</td>\n",
              "      <td>2453041</td>\n",
              "      <td>1218326</td>\n",
              "      <td>1234715</td>\n",
              "    </tr>\n",
              "    <tr>\n",
              "      <th>4</th>\n",
              "      <td>대전</td>\n",
              "      <td>1525849</td>\n",
              "      <td>765718</td>\n",
              "      <td>760131</td>\n",
              "    </tr>\n",
              "    <tr>\n",
              "      <th>5</th>\n",
              "      <td>광주</td>\n",
              "      <td>1496172</td>\n",
              "      <td>745122</td>\n",
              "      <td>751050</td>\n",
              "    </tr>\n",
              "    <tr>\n",
              "      <th>6</th>\n",
              "      <td>수원</td>\n",
              "      <td>1193894</td>\n",
              "      <td>601097</td>\n",
              "      <td>592797</td>\n",
              "    </tr>\n",
              "    <tr>\n",
              "      <th>7</th>\n",
              "      <td>울산</td>\n",
              "      <td>1147037</td>\n",
              "      <td>589233</td>\n",
              "      <td>557804</td>\n",
              "    </tr>\n",
              "    <tr>\n",
              "      <th>8</th>\n",
              "      <td>고양</td>\n",
              "      <td>1068641</td>\n",
              "      <td>523803</td>\n",
              "      <td>544838</td>\n",
              "    </tr>\n",
              "    <tr>\n",
              "      <th>9</th>\n",
              "      <td>용인</td>\n",
              "      <td>1061440</td>\n",
              "      <td>526824</td>\n",
              "      <td>534617</td>\n",
              "    </tr>\n",
              "  </tbody>\n",
              "</table>\n",
              "</div>"
            ],
            "text/plain": [
              "   도시      인구수       남자       여자\n",
              "0  서울  9741381  4757642  4984229\n",
              "1  부산  3416918  1680933  1735985\n",
              "2  인천  2925967  1472081  1453886\n",
              "3  대구  2453041  1218326  1234715\n",
              "4  대전  1525849   765718   760131\n",
              "5  광주  1496172   745122   751050\n",
              "6  수원  1193894   601097   592797\n",
              "7  울산  1147037   589233   557804\n",
              "8  고양  1068641   523803   544838\n",
              "9  용인  1061440   526824   534617"
            ]
          },
          "metadata": {
            "tags": []
          },
          "execution_count": 16
        }
      ]
    },
    {
      "cell_type": "code",
      "metadata": {
        "colab": {
          "base_uri": "https://localhost:8080/"
        },
        "id": "C6uGKkfVV4Nw",
        "outputId": "51008b3f-7105-448e-adb7-3123b74d9db1"
      },
      "source": [
        "data.sum() #각 column들의 총합을 구하는 함수"
      ],
      "execution_count": 17,
      "outputs": [
        {
          "output_type": "execute_result",
          "data": {
            "text/plain": [
              "도시     서울부산인천대구대전광주수원울산고양용인\n",
              "인구수                26030340\n",
              "남자                 12880779\n",
              "여자                 13150052\n",
              "dtype: object"
            ]
          },
          "metadata": {
            "tags": []
          },
          "execution_count": 17
        }
      ]
    },
    {
      "cell_type": "code",
      "metadata": {
        "colab": {
          "base_uri": "https://localhost:8080/",
          "height": 390
        },
        "id": "iqykruP-V_yQ",
        "outputId": "c7581f8e-4d98-44b4-89b7-249384fc6923"
      },
      "source": [
        "#row 추가시에는 저장할 row를 loc의 인자로 넣어주고 거기에 넣어줄 데이터를 넣으면 된다\n",
        "data.loc[10] = data.sum();\n",
        "data"
      ],
      "execution_count": 18,
      "outputs": [
        {
          "output_type": "execute_result",
          "data": {
            "text/html": [
              "<div>\n",
              "<style scoped>\n",
              "    .dataframe tbody tr th:only-of-type {\n",
              "        vertical-align: middle;\n",
              "    }\n",
              "\n",
              "    .dataframe tbody tr th {\n",
              "        vertical-align: top;\n",
              "    }\n",
              "\n",
              "    .dataframe thead th {\n",
              "        text-align: right;\n",
              "    }\n",
              "</style>\n",
              "<table border=\"1\" class=\"dataframe\">\n",
              "  <thead>\n",
              "    <tr style=\"text-align: right;\">\n",
              "      <th></th>\n",
              "      <th>도시</th>\n",
              "      <th>인구수</th>\n",
              "      <th>남자</th>\n",
              "      <th>여자</th>\n",
              "    </tr>\n",
              "  </thead>\n",
              "  <tbody>\n",
              "    <tr>\n",
              "      <th>0</th>\n",
              "      <td>서울</td>\n",
              "      <td>9741381</td>\n",
              "      <td>4757642</td>\n",
              "      <td>4984229</td>\n",
              "    </tr>\n",
              "    <tr>\n",
              "      <th>1</th>\n",
              "      <td>부산</td>\n",
              "      <td>3416918</td>\n",
              "      <td>1680933</td>\n",
              "      <td>1735985</td>\n",
              "    </tr>\n",
              "    <tr>\n",
              "      <th>2</th>\n",
              "      <td>인천</td>\n",
              "      <td>2925967</td>\n",
              "      <td>1472081</td>\n",
              "      <td>1453886</td>\n",
              "    </tr>\n",
              "    <tr>\n",
              "      <th>3</th>\n",
              "      <td>대구</td>\n",
              "      <td>2453041</td>\n",
              "      <td>1218326</td>\n",
              "      <td>1234715</td>\n",
              "    </tr>\n",
              "    <tr>\n",
              "      <th>4</th>\n",
              "      <td>대전</td>\n",
              "      <td>1525849</td>\n",
              "      <td>765718</td>\n",
              "      <td>760131</td>\n",
              "    </tr>\n",
              "    <tr>\n",
              "      <th>5</th>\n",
              "      <td>광주</td>\n",
              "      <td>1496172</td>\n",
              "      <td>745122</td>\n",
              "      <td>751050</td>\n",
              "    </tr>\n",
              "    <tr>\n",
              "      <th>6</th>\n",
              "      <td>수원</td>\n",
              "      <td>1193894</td>\n",
              "      <td>601097</td>\n",
              "      <td>592797</td>\n",
              "    </tr>\n",
              "    <tr>\n",
              "      <th>7</th>\n",
              "      <td>울산</td>\n",
              "      <td>1147037</td>\n",
              "      <td>589233</td>\n",
              "      <td>557804</td>\n",
              "    </tr>\n",
              "    <tr>\n",
              "      <th>8</th>\n",
              "      <td>고양</td>\n",
              "      <td>1068641</td>\n",
              "      <td>523803</td>\n",
              "      <td>544838</td>\n",
              "    </tr>\n",
              "    <tr>\n",
              "      <th>9</th>\n",
              "      <td>용인</td>\n",
              "      <td>1061440</td>\n",
              "      <td>526824</td>\n",
              "      <td>534617</td>\n",
              "    </tr>\n",
              "    <tr>\n",
              "      <th>10</th>\n",
              "      <td>서울부산인천대구대전광주수원울산고양용인</td>\n",
              "      <td>26030340</td>\n",
              "      <td>12880779</td>\n",
              "      <td>13150052</td>\n",
              "    </tr>\n",
              "  </tbody>\n",
              "</table>\n",
              "</div>"
            ],
            "text/plain": [
              "                      도시       인구수        남자        여자\n",
              "0                     서울   9741381   4757642   4984229\n",
              "1                     부산   3416918   1680933   1735985\n",
              "2                     인천   2925967   1472081   1453886\n",
              "3                     대구   2453041   1218326   1234715\n",
              "4                     대전   1525849    765718    760131\n",
              "5                     광주   1496172    745122    751050\n",
              "6                     수원   1193894    601097    592797\n",
              "7                     울산   1147037    589233    557804\n",
              "8                     고양   1068641    523803    544838\n",
              "9                     용인   1061440    526824    534617\n",
              "10  서울부산인천대구대전광주수원울산고양용인  26030340  12880779  13150052"
            ]
          },
          "metadata": {
            "tags": []
          },
          "execution_count": 18
        }
      ]
    },
    {
      "cell_type": "code",
      "metadata": {
        "colab": {
          "base_uri": "https://localhost:8080/",
          "height": 390
        },
        "id": "up0uypR6WUWA",
        "outputId": "c9f374a3-c332-4d59-b134-15bcdb33de3a"
      },
      "source": [
        "#특정 위치를 지정하여 수정 => loc로 지정\n",
        "data.loc[10, '도시'] = '총합'\n",
        "data"
      ],
      "execution_count": 19,
      "outputs": [
        {
          "output_type": "execute_result",
          "data": {
            "text/html": [
              "<div>\n",
              "<style scoped>\n",
              "    .dataframe tbody tr th:only-of-type {\n",
              "        vertical-align: middle;\n",
              "    }\n",
              "\n",
              "    .dataframe tbody tr th {\n",
              "        vertical-align: top;\n",
              "    }\n",
              "\n",
              "    .dataframe thead th {\n",
              "        text-align: right;\n",
              "    }\n",
              "</style>\n",
              "<table border=\"1\" class=\"dataframe\">\n",
              "  <thead>\n",
              "    <tr style=\"text-align: right;\">\n",
              "      <th></th>\n",
              "      <th>도시</th>\n",
              "      <th>인구수</th>\n",
              "      <th>남자</th>\n",
              "      <th>여자</th>\n",
              "    </tr>\n",
              "  </thead>\n",
              "  <tbody>\n",
              "    <tr>\n",
              "      <th>0</th>\n",
              "      <td>서울</td>\n",
              "      <td>9741381</td>\n",
              "      <td>4757642</td>\n",
              "      <td>4984229</td>\n",
              "    </tr>\n",
              "    <tr>\n",
              "      <th>1</th>\n",
              "      <td>부산</td>\n",
              "      <td>3416918</td>\n",
              "      <td>1680933</td>\n",
              "      <td>1735985</td>\n",
              "    </tr>\n",
              "    <tr>\n",
              "      <th>2</th>\n",
              "      <td>인천</td>\n",
              "      <td>2925967</td>\n",
              "      <td>1472081</td>\n",
              "      <td>1453886</td>\n",
              "    </tr>\n",
              "    <tr>\n",
              "      <th>3</th>\n",
              "      <td>대구</td>\n",
              "      <td>2453041</td>\n",
              "      <td>1218326</td>\n",
              "      <td>1234715</td>\n",
              "    </tr>\n",
              "    <tr>\n",
              "      <th>4</th>\n",
              "      <td>대전</td>\n",
              "      <td>1525849</td>\n",
              "      <td>765718</td>\n",
              "      <td>760131</td>\n",
              "    </tr>\n",
              "    <tr>\n",
              "      <th>5</th>\n",
              "      <td>광주</td>\n",
              "      <td>1496172</td>\n",
              "      <td>745122</td>\n",
              "      <td>751050</td>\n",
              "    </tr>\n",
              "    <tr>\n",
              "      <th>6</th>\n",
              "      <td>수원</td>\n",
              "      <td>1193894</td>\n",
              "      <td>601097</td>\n",
              "      <td>592797</td>\n",
              "    </tr>\n",
              "    <tr>\n",
              "      <th>7</th>\n",
              "      <td>울산</td>\n",
              "      <td>1147037</td>\n",
              "      <td>589233</td>\n",
              "      <td>557804</td>\n",
              "    </tr>\n",
              "    <tr>\n",
              "      <th>8</th>\n",
              "      <td>고양</td>\n",
              "      <td>1068641</td>\n",
              "      <td>523803</td>\n",
              "      <td>544838</td>\n",
              "    </tr>\n",
              "    <tr>\n",
              "      <th>9</th>\n",
              "      <td>용인</td>\n",
              "      <td>1061440</td>\n",
              "      <td>526824</td>\n",
              "      <td>534617</td>\n",
              "    </tr>\n",
              "    <tr>\n",
              "      <th>10</th>\n",
              "      <td>총합</td>\n",
              "      <td>26030340</td>\n",
              "      <td>12880779</td>\n",
              "      <td>13150052</td>\n",
              "    </tr>\n",
              "  </tbody>\n",
              "</table>\n",
              "</div>"
            ],
            "text/plain": [
              "    도시       인구수        남자        여자\n",
              "0   서울   9741381   4757642   4984229\n",
              "1   부산   3416918   1680933   1735985\n",
              "2   인천   2925967   1472081   1453886\n",
              "3   대구   2453041   1218326   1234715\n",
              "4   대전   1525849    765718    760131\n",
              "5   광주   1496172    745122    751050\n",
              "6   수원   1193894    601097    592797\n",
              "7   울산   1147037    589233    557804\n",
              "8   고양   1068641    523803    544838\n",
              "9   용인   1061440    526824    534617\n",
              "10  총합  26030340  12880779  13150052"
            ]
          },
          "metadata": {
            "tags": []
          },
          "execution_count": 19
        }
      ]
    },
    {
      "cell_type": "code",
      "metadata": {
        "id": "JNc2GrTPWpnp"
      },
      "source": [
        "directory = '/content/drive/MyDrive/Pandas/tutorial data/data03.csv'\n",
        "data.to_csv(directory, index = False)"
      ],
      "execution_count": 20,
      "outputs": []
    },
    {
      "cell_type": "markdown",
      "metadata": {
        "id": "9uEhhetA6dUl"
      },
      "source": [
        "다중 컬럼 로우 선택\n",
        "dataFrame에 대괄호를 붙혀 리스트와 비슷한 방법으로 사용\n",
        "DataFrame[시작:끝+1]\n",
        "음수값은 뒤에서 부터 골라냄"
      ]
    },
    {
      "cell_type": "code",
      "metadata": {
        "colab": {
          "base_uri": "https://localhost:8080/",
          "height": 266
        },
        "id": "_R543axt6qqE",
        "outputId": "8d3ab24e-62e9-4e67-ff56-c03e4f1eb847"
      },
      "source": [
        "data[2:-2]"
      ],
      "execution_count": 21,
      "outputs": [
        {
          "output_type": "execute_result",
          "data": {
            "text/html": [
              "<div>\n",
              "<style scoped>\n",
              "    .dataframe tbody tr th:only-of-type {\n",
              "        vertical-align: middle;\n",
              "    }\n",
              "\n",
              "    .dataframe tbody tr th {\n",
              "        vertical-align: top;\n",
              "    }\n",
              "\n",
              "    .dataframe thead th {\n",
              "        text-align: right;\n",
              "    }\n",
              "</style>\n",
              "<table border=\"1\" class=\"dataframe\">\n",
              "  <thead>\n",
              "    <tr style=\"text-align: right;\">\n",
              "      <th></th>\n",
              "      <th>도시</th>\n",
              "      <th>인구수</th>\n",
              "      <th>남자</th>\n",
              "      <th>여자</th>\n",
              "    </tr>\n",
              "  </thead>\n",
              "  <tbody>\n",
              "    <tr>\n",
              "      <th>2</th>\n",
              "      <td>인천</td>\n",
              "      <td>2925967</td>\n",
              "      <td>1472081</td>\n",
              "      <td>1453886</td>\n",
              "    </tr>\n",
              "    <tr>\n",
              "      <th>3</th>\n",
              "      <td>대구</td>\n",
              "      <td>2453041</td>\n",
              "      <td>1218326</td>\n",
              "      <td>1234715</td>\n",
              "    </tr>\n",
              "    <tr>\n",
              "      <th>4</th>\n",
              "      <td>대전</td>\n",
              "      <td>1525849</td>\n",
              "      <td>765718</td>\n",
              "      <td>760131</td>\n",
              "    </tr>\n",
              "    <tr>\n",
              "      <th>5</th>\n",
              "      <td>광주</td>\n",
              "      <td>1496172</td>\n",
              "      <td>745122</td>\n",
              "      <td>751050</td>\n",
              "    </tr>\n",
              "    <tr>\n",
              "      <th>6</th>\n",
              "      <td>수원</td>\n",
              "      <td>1193894</td>\n",
              "      <td>601097</td>\n",
              "      <td>592797</td>\n",
              "    </tr>\n",
              "    <tr>\n",
              "      <th>7</th>\n",
              "      <td>울산</td>\n",
              "      <td>1147037</td>\n",
              "      <td>589233</td>\n",
              "      <td>557804</td>\n",
              "    </tr>\n",
              "    <tr>\n",
              "      <th>8</th>\n",
              "      <td>고양</td>\n",
              "      <td>1068641</td>\n",
              "      <td>523803</td>\n",
              "      <td>544838</td>\n",
              "    </tr>\n",
              "  </tbody>\n",
              "</table>\n",
              "</div>"
            ],
            "text/plain": [
              "   도시      인구수       남자       여자\n",
              "2  인천  2925967  1472081  1453886\n",
              "3  대구  2453041  1218326  1234715\n",
              "4  대전  1525849   765718   760131\n",
              "5  광주  1496172   745122   751050\n",
              "6  수원  1193894   601097   592797\n",
              "7  울산  1147037   589233   557804\n",
              "8  고양  1068641   523803   544838"
            ]
          },
          "metadata": {
            "tags": []
          },
          "execution_count": 21
        }
      ]
    },
    {
      "cell_type": "code",
      "metadata": {
        "colab": {
          "base_uri": "https://localhost:8080/",
          "height": 111
        },
        "id": "TrGJvgl36f4U",
        "outputId": "4de437eb-1340-4eab-a12c-39bb65322357"
      },
      "source": [
        "data[-2:]"
      ],
      "execution_count": 23,
      "outputs": [
        {
          "output_type": "execute_result",
          "data": {
            "text/html": [
              "<div>\n",
              "<style scoped>\n",
              "    .dataframe tbody tr th:only-of-type {\n",
              "        vertical-align: middle;\n",
              "    }\n",
              "\n",
              "    .dataframe tbody tr th {\n",
              "        vertical-align: top;\n",
              "    }\n",
              "\n",
              "    .dataframe thead th {\n",
              "        text-align: right;\n",
              "    }\n",
              "</style>\n",
              "<table border=\"1\" class=\"dataframe\">\n",
              "  <thead>\n",
              "    <tr style=\"text-align: right;\">\n",
              "      <th></th>\n",
              "      <th>도시</th>\n",
              "      <th>인구수</th>\n",
              "      <th>남자</th>\n",
              "      <th>여자</th>\n",
              "    </tr>\n",
              "  </thead>\n",
              "  <tbody>\n",
              "    <tr>\n",
              "      <th>9</th>\n",
              "      <td>용인</td>\n",
              "      <td>1061440</td>\n",
              "      <td>526824</td>\n",
              "      <td>534617</td>\n",
              "    </tr>\n",
              "    <tr>\n",
              "      <th>10</th>\n",
              "      <td>총합</td>\n",
              "      <td>26030340</td>\n",
              "      <td>12880779</td>\n",
              "      <td>13150052</td>\n",
              "    </tr>\n",
              "  </tbody>\n",
              "</table>\n",
              "</div>"
            ],
            "text/plain": [
              "    도시       인구수        남자        여자\n",
              "9   용인   1061440    526824    534617\n",
              "10  총합  26030340  12880779  13150052"
            ]
          },
          "metadata": {
            "tags": []
          },
          "execution_count": 23
        }
      ]
    },
    {
      "cell_type": "markdown",
      "metadata": {
        "id": "mcfgfb0v7I_l"
      },
      "source": [
        "loc: 인덱스 기준</br>\n",
        "iloc : 순서 기준</br>\n",
        "DataFrame.loc[로우 시작: 로우 끝, 컬럼 시작: 컬럼 끝]\n"
      ]
    },
    {
      "cell_type": "code",
      "metadata": {
        "colab": {
          "base_uri": "https://localhost:8080/",
          "height": 235
        },
        "id": "gK5M1ggf7Id9",
        "outputId": "f5e1e444-2299-4d82-f111-7ffb9b250937"
      },
      "source": [
        "data.loc[[0,2,4,6,7,9],['인구수', '남자', '여자']] #지정한 로우(좌측), 지정한컬럼(우측)"
      ],
      "execution_count": 25,
      "outputs": [
        {
          "output_type": "execute_result",
          "data": {
            "text/html": [
              "<div>\n",
              "<style scoped>\n",
              "    .dataframe tbody tr th:only-of-type {\n",
              "        vertical-align: middle;\n",
              "    }\n",
              "\n",
              "    .dataframe tbody tr th {\n",
              "        vertical-align: top;\n",
              "    }\n",
              "\n",
              "    .dataframe thead th {\n",
              "        text-align: right;\n",
              "    }\n",
              "</style>\n",
              "<table border=\"1\" class=\"dataframe\">\n",
              "  <thead>\n",
              "    <tr style=\"text-align: right;\">\n",
              "      <th></th>\n",
              "      <th>인구수</th>\n",
              "      <th>남자</th>\n",
              "      <th>여자</th>\n",
              "    </tr>\n",
              "  </thead>\n",
              "  <tbody>\n",
              "    <tr>\n",
              "      <th>0</th>\n",
              "      <td>9741381</td>\n",
              "      <td>4757642</td>\n",
              "      <td>4984229</td>\n",
              "    </tr>\n",
              "    <tr>\n",
              "      <th>2</th>\n",
              "      <td>2925967</td>\n",
              "      <td>1472081</td>\n",
              "      <td>1453886</td>\n",
              "    </tr>\n",
              "    <tr>\n",
              "      <th>4</th>\n",
              "      <td>1525849</td>\n",
              "      <td>765718</td>\n",
              "      <td>760131</td>\n",
              "    </tr>\n",
              "    <tr>\n",
              "      <th>6</th>\n",
              "      <td>1193894</td>\n",
              "      <td>601097</td>\n",
              "      <td>592797</td>\n",
              "    </tr>\n",
              "    <tr>\n",
              "      <th>7</th>\n",
              "      <td>1147037</td>\n",
              "      <td>589233</td>\n",
              "      <td>557804</td>\n",
              "    </tr>\n",
              "    <tr>\n",
              "      <th>9</th>\n",
              "      <td>1061440</td>\n",
              "      <td>526824</td>\n",
              "      <td>534617</td>\n",
              "    </tr>\n",
              "  </tbody>\n",
              "</table>\n",
              "</div>"
            ],
            "text/plain": [
              "       인구수       남자       여자\n",
              "0  9741381  4757642  4984229\n",
              "2  2925967  1472081  1453886\n",
              "4  1525849   765718   760131\n",
              "6  1193894   601097   592797\n",
              "7  1147037   589233   557804\n",
              "9  1061440   526824   534617"
            ]
          },
          "metadata": {
            "tags": []
          },
          "execution_count": 25
        }
      ]
    },
    {
      "cell_type": "code",
      "metadata": {
        "colab": {
          "base_uri": "https://localhost:8080/",
          "height": 173
        },
        "id": "MnPd_Acw7e9F",
        "outputId": "f5238e91-897b-4475-f94d-c39208cdd007"
      },
      "source": [
        "data.loc[2:5, '인구수':'여자'] #리스트 대신 콜론을 이용하여 지정(끝 인덱스 포함됨 원하는 인덱스를 골라 내는것과 다름)"
      ],
      "execution_count": 26,
      "outputs": [
        {
          "output_type": "execute_result",
          "data": {
            "text/html": [
              "<div>\n",
              "<style scoped>\n",
              "    .dataframe tbody tr th:only-of-type {\n",
              "        vertical-align: middle;\n",
              "    }\n",
              "\n",
              "    .dataframe tbody tr th {\n",
              "        vertical-align: top;\n",
              "    }\n",
              "\n",
              "    .dataframe thead th {\n",
              "        text-align: right;\n",
              "    }\n",
              "</style>\n",
              "<table border=\"1\" class=\"dataframe\">\n",
              "  <thead>\n",
              "    <tr style=\"text-align: right;\">\n",
              "      <th></th>\n",
              "      <th>인구수</th>\n",
              "      <th>남자</th>\n",
              "      <th>여자</th>\n",
              "    </tr>\n",
              "  </thead>\n",
              "  <tbody>\n",
              "    <tr>\n",
              "      <th>2</th>\n",
              "      <td>2925967</td>\n",
              "      <td>1472081</td>\n",
              "      <td>1453886</td>\n",
              "    </tr>\n",
              "    <tr>\n",
              "      <th>3</th>\n",
              "      <td>2453041</td>\n",
              "      <td>1218326</td>\n",
              "      <td>1234715</td>\n",
              "    </tr>\n",
              "    <tr>\n",
              "      <th>4</th>\n",
              "      <td>1525849</td>\n",
              "      <td>765718</td>\n",
              "      <td>760131</td>\n",
              "    </tr>\n",
              "    <tr>\n",
              "      <th>5</th>\n",
              "      <td>1496172</td>\n",
              "      <td>745122</td>\n",
              "      <td>751050</td>\n",
              "    </tr>\n",
              "  </tbody>\n",
              "</table>\n",
              "</div>"
            ],
            "text/plain": [
              "       인구수       남자       여자\n",
              "2  2925967  1472081  1453886\n",
              "3  2453041  1218326  1234715\n",
              "4  1525849   765718   760131\n",
              "5  1496172   745122   751050"
            ]
          },
          "metadata": {
            "tags": []
          },
          "execution_count": 26
        }
      ]
    },
    {
      "cell_type": "markdown",
      "metadata": {
        "id": "scMwwx3i8N_m"
      },
      "source": [
        "iloc: 인덱스가 아닌 데이터 배열의 순서를 기준으로 찾아냄(로우와 컬럼을 무시하고 순서를 이용해 원하는 값을 뽑아냄)"
      ]
    },
    {
      "cell_type": "code",
      "metadata": {
        "colab": {
          "base_uri": "https://localhost:8080/",
          "height": 173
        },
        "id": "CBmvoAKC8fu1",
        "outputId": "43d5120e-02d5-43be-f89e-5a1c640f7ee0"
      },
      "source": [
        "data.iloc[[2,3,4,5],[1,3]]"
      ],
      "execution_count": 27,
      "outputs": [
        {
          "output_type": "execute_result",
          "data": {
            "text/html": [
              "<div>\n",
              "<style scoped>\n",
              "    .dataframe tbody tr th:only-of-type {\n",
              "        vertical-align: middle;\n",
              "    }\n",
              "\n",
              "    .dataframe tbody tr th {\n",
              "        vertical-align: top;\n",
              "    }\n",
              "\n",
              "    .dataframe thead th {\n",
              "        text-align: right;\n",
              "    }\n",
              "</style>\n",
              "<table border=\"1\" class=\"dataframe\">\n",
              "  <thead>\n",
              "    <tr style=\"text-align: right;\">\n",
              "      <th></th>\n",
              "      <th>인구수</th>\n",
              "      <th>여자</th>\n",
              "    </tr>\n",
              "  </thead>\n",
              "  <tbody>\n",
              "    <tr>\n",
              "      <th>2</th>\n",
              "      <td>2925967</td>\n",
              "      <td>1453886</td>\n",
              "    </tr>\n",
              "    <tr>\n",
              "      <th>3</th>\n",
              "      <td>2453041</td>\n",
              "      <td>1234715</td>\n",
              "    </tr>\n",
              "    <tr>\n",
              "      <th>4</th>\n",
              "      <td>1525849</td>\n",
              "      <td>760131</td>\n",
              "    </tr>\n",
              "    <tr>\n",
              "      <th>5</th>\n",
              "      <td>1496172</td>\n",
              "      <td>751050</td>\n",
              "    </tr>\n",
              "  </tbody>\n",
              "</table>\n",
              "</div>"
            ],
            "text/plain": [
              "       인구수       여자\n",
              "2  2925967  1453886\n",
              "3  2453041  1234715\n",
              "4  1525849   760131\n",
              "5  1496172   751050"
            ]
          },
          "metadata": {
            "tags": []
          },
          "execution_count": 27
        }
      ]
    },
    {
      "cell_type": "code",
      "metadata": {
        "colab": {
          "base_uri": "https://localhost:8080/",
          "height": 142
        },
        "id": "D_b1KCLQ8m99",
        "outputId": "c291615d-c769-4688-acaa-ead2278cbde3"
      },
      "source": [
        "data.iloc[2:5,1:]"
      ],
      "execution_count": 28,
      "outputs": [
        {
          "output_type": "execute_result",
          "data": {
            "text/html": [
              "<div>\n",
              "<style scoped>\n",
              "    .dataframe tbody tr th:only-of-type {\n",
              "        vertical-align: middle;\n",
              "    }\n",
              "\n",
              "    .dataframe tbody tr th {\n",
              "        vertical-align: top;\n",
              "    }\n",
              "\n",
              "    .dataframe thead th {\n",
              "        text-align: right;\n",
              "    }\n",
              "</style>\n",
              "<table border=\"1\" class=\"dataframe\">\n",
              "  <thead>\n",
              "    <tr style=\"text-align: right;\">\n",
              "      <th></th>\n",
              "      <th>인구수</th>\n",
              "      <th>남자</th>\n",
              "      <th>여자</th>\n",
              "    </tr>\n",
              "  </thead>\n",
              "  <tbody>\n",
              "    <tr>\n",
              "      <th>2</th>\n",
              "      <td>2925967</td>\n",
              "      <td>1472081</td>\n",
              "      <td>1453886</td>\n",
              "    </tr>\n",
              "    <tr>\n",
              "      <th>3</th>\n",
              "      <td>2453041</td>\n",
              "      <td>1218326</td>\n",
              "      <td>1234715</td>\n",
              "    </tr>\n",
              "    <tr>\n",
              "      <th>4</th>\n",
              "      <td>1525849</td>\n",
              "      <td>765718</td>\n",
              "      <td>760131</td>\n",
              "    </tr>\n",
              "  </tbody>\n",
              "</table>\n",
              "</div>"
            ],
            "text/plain": [
              "       인구수       남자       여자\n",
              "2  2925967  1472081  1453886\n",
              "3  2453041  1218326  1234715\n",
              "4  1525849   765718   760131"
            ]
          },
          "metadata": {
            "tags": []
          },
          "execution_count": 28
        }
      ]
    },
    {
      "cell_type": "code",
      "metadata": {
        "colab": {
          "base_uri": "https://localhost:8080/",
          "height": 204
        },
        "id": "dFItJyjp8nMd",
        "outputId": "5b779ef6-edc3-4db3-9113-e6de62a91280"
      },
      "source": [
        "data.iloc[-5:, -3:]"
      ],
      "execution_count": 29,
      "outputs": [
        {
          "output_type": "execute_result",
          "data": {
            "text/html": [
              "<div>\n",
              "<style scoped>\n",
              "    .dataframe tbody tr th:only-of-type {\n",
              "        vertical-align: middle;\n",
              "    }\n",
              "\n",
              "    .dataframe tbody tr th {\n",
              "        vertical-align: top;\n",
              "    }\n",
              "\n",
              "    .dataframe thead th {\n",
              "        text-align: right;\n",
              "    }\n",
              "</style>\n",
              "<table border=\"1\" class=\"dataframe\">\n",
              "  <thead>\n",
              "    <tr style=\"text-align: right;\">\n",
              "      <th></th>\n",
              "      <th>인구수</th>\n",
              "      <th>남자</th>\n",
              "      <th>여자</th>\n",
              "    </tr>\n",
              "  </thead>\n",
              "  <tbody>\n",
              "    <tr>\n",
              "      <th>6</th>\n",
              "      <td>1193894</td>\n",
              "      <td>601097</td>\n",
              "      <td>592797</td>\n",
              "    </tr>\n",
              "    <tr>\n",
              "      <th>7</th>\n",
              "      <td>1147037</td>\n",
              "      <td>589233</td>\n",
              "      <td>557804</td>\n",
              "    </tr>\n",
              "    <tr>\n",
              "      <th>8</th>\n",
              "      <td>1068641</td>\n",
              "      <td>523803</td>\n",
              "      <td>544838</td>\n",
              "    </tr>\n",
              "    <tr>\n",
              "      <th>9</th>\n",
              "      <td>1061440</td>\n",
              "      <td>526824</td>\n",
              "      <td>534617</td>\n",
              "    </tr>\n",
              "    <tr>\n",
              "      <th>10</th>\n",
              "      <td>26030340</td>\n",
              "      <td>12880779</td>\n",
              "      <td>13150052</td>\n",
              "    </tr>\n",
              "  </tbody>\n",
              "</table>\n",
              "</div>"
            ],
            "text/plain": [
              "         인구수        남자        여자\n",
              "6    1193894    601097    592797\n",
              "7    1147037    589233    557804\n",
              "8    1068641    523803    544838\n",
              "9    1061440    526824    534617\n",
              "10  26030340  12880779  13150052"
            ]
          },
          "metadata": {
            "tags": []
          },
          "execution_count": 29
        }
      ]
    }
  ]
}