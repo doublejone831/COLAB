{
  "nbformat": 4,
  "nbformat_minor": 0,
  "metadata": {
    "colab": {
      "name": "Practice2.ipynb",
      "provenance": [],
      "collapsed_sections": [],
      "mount_file_id": "16418_v8sF_zvCbpKCa7YByfxmuPaFO2M",
      "authorship_tag": "ABX9TyMMGVOSVOa7wvK+NXdX+vNZ",
      "include_colab_link": true
    },
    "kernelspec": {
      "name": "python3",
      "display_name": "Python 3"
    },
    "language_info": {
      "name": "python"
    }
  },
  "cells": [
    {
      "cell_type": "markdown",
      "metadata": {
        "id": "view-in-github",
        "colab_type": "text"
      },
      "source": [
        "<a href=\"https://colab.research.google.com/github/doublejone831/COLAB/blob/main/Practice2.ipynb\" target=\"_parent\"><img src=\"https://colab.research.google.com/assets/colab-badge.svg\" alt=\"Open In Colab\"/></a>"
      ]
    },
    {
      "cell_type": "markdown",
      "metadata": {
        "id": "HWyisBIQ9E6u"
      },
      "source": [
        "통계함수 이용방법"
      ]
    },
    {
      "cell_type": "code",
      "metadata": {
        "colab": {
          "base_uri": "https://localhost:8080/"
        },
        "id": "qzAf_kOf9AmS",
        "outputId": "d5322740-7075-4579-c16f-2591234ed71e"
      },
      "source": [
        "from google.colab import drive\n",
        "drive.mount('/content/drive')"
      ],
      "execution_count": 2,
      "outputs": [
        {
          "output_type": "stream",
          "text": [
            "Drive already mounted at /content/drive; to attempt to forcibly remount, call drive.mount(\"/content/drive\", force_remount=True).\n"
          ],
          "name": "stdout"
        }
      ]
    },
    {
      "cell_type": "code",
      "metadata": {
        "id": "6jYYldGG9nrW"
      },
      "source": [
        "import pandas as pd"
      ],
      "execution_count": 4,
      "outputs": []
    },
    {
      "cell_type": "code",
      "metadata": {
        "colab": {
          "base_uri": "https://localhost:8080/",
          "height": 390
        },
        "id": "Xj2rqyhi9r-V",
        "outputId": "1ad4e59c-61e1-4bf2-a23f-f98a2d219a01"
      },
      "source": [
        "data = pd.read_csv('/content/drive/MyDrive/Pandas/tutorial data/data03.csv')\n",
        "data"
      ],
      "execution_count": 6,
      "outputs": [
        {
          "output_type": "execute_result",
          "data": {
            "text/html": [
              "<div>\n",
              "<style scoped>\n",
              "    .dataframe tbody tr th:only-of-type {\n",
              "        vertical-align: middle;\n",
              "    }\n",
              "\n",
              "    .dataframe tbody tr th {\n",
              "        vertical-align: top;\n",
              "    }\n",
              "\n",
              "    .dataframe thead th {\n",
              "        text-align: right;\n",
              "    }\n",
              "</style>\n",
              "<table border=\"1\" class=\"dataframe\">\n",
              "  <thead>\n",
              "    <tr style=\"text-align: right;\">\n",
              "      <th></th>\n",
              "      <th>도시</th>\n",
              "      <th>인구수</th>\n",
              "      <th>남자</th>\n",
              "      <th>여자</th>\n",
              "    </tr>\n",
              "  </thead>\n",
              "  <tbody>\n",
              "    <tr>\n",
              "      <th>0</th>\n",
              "      <td>서울</td>\n",
              "      <td>9741381</td>\n",
              "      <td>4757642</td>\n",
              "      <td>4984229</td>\n",
              "    </tr>\n",
              "    <tr>\n",
              "      <th>1</th>\n",
              "      <td>부산</td>\n",
              "      <td>3416918</td>\n",
              "      <td>1680933</td>\n",
              "      <td>1735985</td>\n",
              "    </tr>\n",
              "    <tr>\n",
              "      <th>2</th>\n",
              "      <td>인천</td>\n",
              "      <td>2925967</td>\n",
              "      <td>1472081</td>\n",
              "      <td>1453886</td>\n",
              "    </tr>\n",
              "    <tr>\n",
              "      <th>3</th>\n",
              "      <td>대구</td>\n",
              "      <td>2453041</td>\n",
              "      <td>1218326</td>\n",
              "      <td>1234715</td>\n",
              "    </tr>\n",
              "    <tr>\n",
              "      <th>4</th>\n",
              "      <td>대전</td>\n",
              "      <td>1525849</td>\n",
              "      <td>765718</td>\n",
              "      <td>760131</td>\n",
              "    </tr>\n",
              "    <tr>\n",
              "      <th>5</th>\n",
              "      <td>광주</td>\n",
              "      <td>1496172</td>\n",
              "      <td>745122</td>\n",
              "      <td>751050</td>\n",
              "    </tr>\n",
              "    <tr>\n",
              "      <th>6</th>\n",
              "      <td>수원</td>\n",
              "      <td>1193894</td>\n",
              "      <td>601097</td>\n",
              "      <td>592797</td>\n",
              "    </tr>\n",
              "    <tr>\n",
              "      <th>7</th>\n",
              "      <td>울산</td>\n",
              "      <td>1147037</td>\n",
              "      <td>589233</td>\n",
              "      <td>557804</td>\n",
              "    </tr>\n",
              "    <tr>\n",
              "      <th>8</th>\n",
              "      <td>고양</td>\n",
              "      <td>1068641</td>\n",
              "      <td>523803</td>\n",
              "      <td>544838</td>\n",
              "    </tr>\n",
              "    <tr>\n",
              "      <th>9</th>\n",
              "      <td>용인</td>\n",
              "      <td>1061440</td>\n",
              "      <td>526824</td>\n",
              "      <td>534617</td>\n",
              "    </tr>\n",
              "    <tr>\n",
              "      <th>10</th>\n",
              "      <td>총합</td>\n",
              "      <td>26030340</td>\n",
              "      <td>12880779</td>\n",
              "      <td>13150052</td>\n",
              "    </tr>\n",
              "  </tbody>\n",
              "</table>\n",
              "</div>"
            ],
            "text/plain": [
              "    도시       인구수        남자        여자\n",
              "0   서울   9741381   4757642   4984229\n",
              "1   부산   3416918   1680933   1735985\n",
              "2   인천   2925967   1472081   1453886\n",
              "3   대구   2453041   1218326   1234715\n",
              "4   대전   1525849    765718    760131\n",
              "5   광주   1496172    745122    751050\n",
              "6   수원   1193894    601097    592797\n",
              "7   울산   1147037    589233    557804\n",
              "8   고양   1068641    523803    544838\n",
              "9   용인   1061440    526824    534617\n",
              "10  총합  26030340  12880779  13150052"
            ]
          },
          "metadata": {
            "tags": []
          },
          "execution_count": 6
        }
      ]
    },
    {
      "cell_type": "code",
      "metadata": {
        "colab": {
          "base_uri": "https://localhost:8080/"
        },
        "id": "tm4mL7cr970e",
        "outputId": "f3a04355-92fd-4e2c-abce-3eb6323c661d"
      },
      "source": [
        "data['도시'].unique() #컬럼의 중복된 경우를 제외하고 출력"
      ],
      "execution_count": 7,
      "outputs": [
        {
          "output_type": "execute_result",
          "data": {
            "text/plain": [
              "array(['서울', '부산', '인천', '대구', '대전', '광주', '수원', '울산', '고양', '용인', '총합'],\n",
              "      dtype=object)"
            ]
          },
          "metadata": {
            "tags": []
          },
          "execution_count": 7
        }
      ]
    },
    {
      "cell_type": "code",
      "metadata": {
        "colab": {
          "base_uri": "https://localhost:8080/"
        },
        "id": "wK80qXJd-FbW",
        "outputId": "b8ba6559-cfd5-4862-c374-65dcdfae8437"
      },
      "source": [
        "data['도시'].value_counts() #고유 값들의 빈도 출력"
      ],
      "execution_count": 8,
      "outputs": [
        {
          "output_type": "execute_result",
          "data": {
            "text/plain": [
              "고양    1\n",
              "용인    1\n",
              "부산    1\n",
              "총합    1\n",
              "수원    1\n",
              "울산    1\n",
              "인천    1\n",
              "대전    1\n",
              "서울    1\n",
              "광주    1\n",
              "대구    1\n",
              "Name: 도시, dtype: int64"
            ]
          },
          "metadata": {
            "tags": []
          },
          "execution_count": 8
        }
      ]
    },
    {
      "cell_type": "markdown",
      "metadata": {
        "id": "6V_MVB1n-Z_4"
      },
      "source": [
        "수치 관련 연산들"
      ]
    },
    {
      "cell_type": "code",
      "metadata": {
        "colab": {
          "base_uri": "https://localhost:8080/",
          "height": 359
        },
        "id": "4CTEVHf5-cQ9",
        "outputId": "cf30ca19-9889-4126-9acf-082b46dfa0ce"
      },
      "source": [
        "df = data.iloc[:10, 1:] #수치 데이터만 저장\n",
        "df"
      ],
      "execution_count": 9,
      "outputs": [
        {
          "output_type": "execute_result",
          "data": {
            "text/html": [
              "<div>\n",
              "<style scoped>\n",
              "    .dataframe tbody tr th:only-of-type {\n",
              "        vertical-align: middle;\n",
              "    }\n",
              "\n",
              "    .dataframe tbody tr th {\n",
              "        vertical-align: top;\n",
              "    }\n",
              "\n",
              "    .dataframe thead th {\n",
              "        text-align: right;\n",
              "    }\n",
              "</style>\n",
              "<table border=\"1\" class=\"dataframe\">\n",
              "  <thead>\n",
              "    <tr style=\"text-align: right;\">\n",
              "      <th></th>\n",
              "      <th>인구수</th>\n",
              "      <th>남자</th>\n",
              "      <th>여자</th>\n",
              "    </tr>\n",
              "  </thead>\n",
              "  <tbody>\n",
              "    <tr>\n",
              "      <th>0</th>\n",
              "      <td>9741381</td>\n",
              "      <td>4757642</td>\n",
              "      <td>4984229</td>\n",
              "    </tr>\n",
              "    <tr>\n",
              "      <th>1</th>\n",
              "      <td>3416918</td>\n",
              "      <td>1680933</td>\n",
              "      <td>1735985</td>\n",
              "    </tr>\n",
              "    <tr>\n",
              "      <th>2</th>\n",
              "      <td>2925967</td>\n",
              "      <td>1472081</td>\n",
              "      <td>1453886</td>\n",
              "    </tr>\n",
              "    <tr>\n",
              "      <th>3</th>\n",
              "      <td>2453041</td>\n",
              "      <td>1218326</td>\n",
              "      <td>1234715</td>\n",
              "    </tr>\n",
              "    <tr>\n",
              "      <th>4</th>\n",
              "      <td>1525849</td>\n",
              "      <td>765718</td>\n",
              "      <td>760131</td>\n",
              "    </tr>\n",
              "    <tr>\n",
              "      <th>5</th>\n",
              "      <td>1496172</td>\n",
              "      <td>745122</td>\n",
              "      <td>751050</td>\n",
              "    </tr>\n",
              "    <tr>\n",
              "      <th>6</th>\n",
              "      <td>1193894</td>\n",
              "      <td>601097</td>\n",
              "      <td>592797</td>\n",
              "    </tr>\n",
              "    <tr>\n",
              "      <th>7</th>\n",
              "      <td>1147037</td>\n",
              "      <td>589233</td>\n",
              "      <td>557804</td>\n",
              "    </tr>\n",
              "    <tr>\n",
              "      <th>8</th>\n",
              "      <td>1068641</td>\n",
              "      <td>523803</td>\n",
              "      <td>544838</td>\n",
              "    </tr>\n",
              "    <tr>\n",
              "      <th>9</th>\n",
              "      <td>1061440</td>\n",
              "      <td>526824</td>\n",
              "      <td>534617</td>\n",
              "    </tr>\n",
              "  </tbody>\n",
              "</table>\n",
              "</div>"
            ],
            "text/plain": [
              "       인구수       남자       여자\n",
              "0  9741381  4757642  4984229\n",
              "1  3416918  1680933  1735985\n",
              "2  2925967  1472081  1453886\n",
              "3  2453041  1218326  1234715\n",
              "4  1525849   765718   760131\n",
              "5  1496172   745122   751050\n",
              "6  1193894   601097   592797\n",
              "7  1147037   589233   557804\n",
              "8  1068641   523803   544838\n",
              "9  1061440   526824   534617"
            ]
          },
          "metadata": {
            "tags": []
          },
          "execution_count": 9
        }
      ]
    },
    {
      "cell_type": "code",
      "metadata": {
        "colab": {
          "base_uri": "https://localhost:8080/"
        },
        "id": "cm9IeH6s-j_O",
        "outputId": "db4b84ee-0119-4dec-ee48-bc4ba26f045c"
      },
      "source": [
        "df.sum() #총합"
      ],
      "execution_count": 10,
      "outputs": [
        {
          "output_type": "execute_result",
          "data": {
            "text/plain": [
              "인구수    26030340\n",
              "남자     12880779\n",
              "여자     13150052\n",
              "dtype: int64"
            ]
          },
          "metadata": {
            "tags": []
          },
          "execution_count": 10
        }
      ]
    },
    {
      "cell_type": "code",
      "metadata": {
        "colab": {
          "base_uri": "https://localhost:8080/"
        },
        "id": "lVDL3zVL-oJ_",
        "outputId": "5d2c7907-f8df-4b80-da03-86a9dbd2a784"
      },
      "source": [
        "df.max() #최대"
      ],
      "execution_count": 11,
      "outputs": [
        {
          "output_type": "execute_result",
          "data": {
            "text/plain": [
              "인구수    9741381\n",
              "남자     4757642\n",
              "여자     4984229\n",
              "dtype: int64"
            ]
          },
          "metadata": {
            "tags": []
          },
          "execution_count": 11
        }
      ]
    },
    {
      "cell_type": "code",
      "metadata": {
        "colab": {
          "base_uri": "https://localhost:8080/"
        },
        "id": "ytSwakFR-r6-",
        "outputId": "917074f4-f63d-4fde-a648-dbc88b2aefa4"
      },
      "source": [
        "df['인구수'].idxmax() #최댓값의 로우 인덱스 반환"
      ],
      "execution_count": 12,
      "outputs": [
        {
          "output_type": "execute_result",
          "data": {
            "text/plain": [
              "0"
            ]
          },
          "metadata": {
            "tags": []
          },
          "execution_count": 12
        }
      ]
    },
    {
      "cell_type": "code",
      "metadata": {
        "colab": {
          "base_uri": "https://localhost:8080/",
          "height": 35
        },
        "id": "_rdvT6z6-1eW",
        "outputId": "71e32178-65e0-4b91-e3a0-f725c68264a4"
      },
      "source": [
        "data.loc[df['인구수'].idxmax()]['도시'] #맥스값의 도시명 찾기"
      ],
      "execution_count": 13,
      "outputs": [
        {
          "output_type": "execute_result",
          "data": {
            "application/vnd.google.colaboratory.intrinsic+json": {
              "type": "string"
            },
            "text/plain": [
              "'서울'"
            ]
          },
          "metadata": {
            "tags": []
          },
          "execution_count": 13
        }
      ]
    },
    {
      "cell_type": "code",
      "metadata": {
        "colab": {
          "base_uri": "https://localhost:8080/"
        },
        "id": "BKl7TFov_DPN",
        "outputId": "ffb8c07d-eee8-4ed6-b275-4067fc47560f"
      },
      "source": [
        "df.min() #최솟값"
      ],
      "execution_count": 14,
      "outputs": [
        {
          "output_type": "execute_result",
          "data": {
            "text/plain": [
              "인구수    1061440\n",
              "남자      523803\n",
              "여자      534617\n",
              "dtype: int64"
            ]
          },
          "metadata": {
            "tags": []
          },
          "execution_count": 14
        }
      ]
    },
    {
      "cell_type": "code",
      "metadata": {
        "colab": {
          "base_uri": "https://localhost:8080/"
        },
        "id": "JKhOGgyT_DU1",
        "outputId": "8c713659-93bb-445d-e4d5-9b9cc1f7e50e"
      },
      "source": [
        "df['인구수'].idxmin()"
      ],
      "execution_count": 15,
      "outputs": [
        {
          "output_type": "execute_result",
          "data": {
            "text/plain": [
              "9"
            ]
          },
          "metadata": {
            "tags": []
          },
          "execution_count": 15
        }
      ]
    },
    {
      "cell_type": "code",
      "metadata": {
        "colab": {
          "base_uri": "https://localhost:8080/",
          "height": 35
        },
        "id": "d6S-Vrzu_Dam",
        "outputId": "a4c78d2b-0adf-42a8-d4bb-e8b5c386a519"
      },
      "source": [
        "data.loc[df['인구수'].idxmin()]['도시']"
      ],
      "execution_count": 16,
      "outputs": [
        {
          "output_type": "execute_result",
          "data": {
            "application/vnd.google.colaboratory.intrinsic+json": {
              "type": "string"
            },
            "text/plain": [
              "'용인'"
            ]
          },
          "metadata": {
            "tags": []
          },
          "execution_count": 16
        }
      ]
    },
    {
      "cell_type": "code",
      "metadata": {
        "colab": {
          "base_uri": "https://localhost:8080/"
        },
        "id": "gwkrMl6y_Tc3",
        "outputId": "a478c22a-6638-45d8-bfdb-260fd4eba56d"
      },
      "source": [
        "df.mean() #평균"
      ],
      "execution_count": 18,
      "outputs": [
        {
          "output_type": "execute_result",
          "data": {
            "text/plain": [
              "인구수    2603034.0\n",
              "남자     1288077.9\n",
              "여자     1315005.2\n",
              "dtype: float64"
            ]
          },
          "metadata": {
            "tags": []
          },
          "execution_count": 18
        }
      ]
    },
    {
      "cell_type": "code",
      "metadata": {
        "colab": {
          "base_uri": "https://localhost:8080/"
        },
        "id": "OUSTQfDs_TmW",
        "outputId": "108da0f9-7e6b-43ba-b871-f2465fa2b9a3"
      },
      "source": [
        "df.median() #중간값"
      ],
      "execution_count": 19,
      "outputs": [
        {
          "output_type": "execute_result",
          "data": {
            "text/plain": [
              "인구수    1511010.5\n",
              "남자      755420.0\n",
              "여자      755590.5\n",
              "dtype: float64"
            ]
          },
          "metadata": {
            "tags": []
          },
          "execution_count": 19
        }
      ]
    },
    {
      "cell_type": "code",
      "metadata": {
        "colab": {
          "base_uri": "https://localhost:8080/"
        },
        "id": "GYohJQV5_UG4",
        "outputId": "46c54151-424b-42c7-8ade-d9908340ddca"
      },
      "source": [
        "df.var() #분산"
      ],
      "execution_count": 20,
      "outputs": [
        {
          "output_type": "execute_result",
          "data": {
            "text/plain": [
              "인구수    6.996348e+12\n",
              "남자     1.658060e+12\n",
              "여자     1.843244e+12\n",
              "dtype: float64"
            ]
          },
          "metadata": {
            "tags": []
          },
          "execution_count": 20
        }
      ]
    },
    {
      "cell_type": "code",
      "metadata": {
        "colab": {
          "base_uri": "https://localhost:8080/"
        },
        "id": "ei4ZN-xy_eD9",
        "outputId": "58841ab9-c752-4e0c-8321-0fe09892df83"
      },
      "source": [
        "df.std() #표준 편차"
      ],
      "execution_count": 21,
      "outputs": [
        {
          "output_type": "execute_result",
          "data": {
            "text/plain": [
              "인구수    2.645061e+06\n",
              "남자     1.287657e+06\n",
              "여자     1.357661e+06\n",
              "dtype: float64"
            ]
          },
          "metadata": {
            "tags": []
          },
          "execution_count": 21
        }
      ]
    },
    {
      "cell_type": "markdown",
      "metadata": {
        "id": "pNYyQZ70_rnf"
      },
      "source": [
        "컬럼 연산\n",
        "파이썬의 모든 연산자들 사용가능"
      ]
    },
    {
      "cell_type": "code",
      "metadata": {
        "colab": {
          "base_uri": "https://localhost:8080/",
          "height": 390
        },
        "id": "GlZqioik_w1o",
        "outputId": "976e7a45-0359-4236-93e4-6674568421af"
      },
      "source": [
        "data['남자 + 여자'] = data['남자'] + data['여자'] #컬럼간의 연산은 간은 로우의 값끼리 연산됨\n",
        "data"
      ],
      "execution_count": 22,
      "outputs": [
        {
          "output_type": "execute_result",
          "data": {
            "text/html": [
              "<div>\n",
              "<style scoped>\n",
              "    .dataframe tbody tr th:only-of-type {\n",
              "        vertical-align: middle;\n",
              "    }\n",
              "\n",
              "    .dataframe tbody tr th {\n",
              "        vertical-align: top;\n",
              "    }\n",
              "\n",
              "    .dataframe thead th {\n",
              "        text-align: right;\n",
              "    }\n",
              "</style>\n",
              "<table border=\"1\" class=\"dataframe\">\n",
              "  <thead>\n",
              "    <tr style=\"text-align: right;\">\n",
              "      <th></th>\n",
              "      <th>도시</th>\n",
              "      <th>인구수</th>\n",
              "      <th>남자</th>\n",
              "      <th>여자</th>\n",
              "      <th>남자 + 여자</th>\n",
              "    </tr>\n",
              "  </thead>\n",
              "  <tbody>\n",
              "    <tr>\n",
              "      <th>0</th>\n",
              "      <td>서울</td>\n",
              "      <td>9741381</td>\n",
              "      <td>4757642</td>\n",
              "      <td>4984229</td>\n",
              "      <td>9741871</td>\n",
              "    </tr>\n",
              "    <tr>\n",
              "      <th>1</th>\n",
              "      <td>부산</td>\n",
              "      <td>3416918</td>\n",
              "      <td>1680933</td>\n",
              "      <td>1735985</td>\n",
              "      <td>3416918</td>\n",
              "    </tr>\n",
              "    <tr>\n",
              "      <th>2</th>\n",
              "      <td>인천</td>\n",
              "      <td>2925967</td>\n",
              "      <td>1472081</td>\n",
              "      <td>1453886</td>\n",
              "      <td>2925967</td>\n",
              "    </tr>\n",
              "    <tr>\n",
              "      <th>3</th>\n",
              "      <td>대구</td>\n",
              "      <td>2453041</td>\n",
              "      <td>1218326</td>\n",
              "      <td>1234715</td>\n",
              "      <td>2453041</td>\n",
              "    </tr>\n",
              "    <tr>\n",
              "      <th>4</th>\n",
              "      <td>대전</td>\n",
              "      <td>1525849</td>\n",
              "      <td>765718</td>\n",
              "      <td>760131</td>\n",
              "      <td>1525849</td>\n",
              "    </tr>\n",
              "    <tr>\n",
              "      <th>5</th>\n",
              "      <td>광주</td>\n",
              "      <td>1496172</td>\n",
              "      <td>745122</td>\n",
              "      <td>751050</td>\n",
              "      <td>1496172</td>\n",
              "    </tr>\n",
              "    <tr>\n",
              "      <th>6</th>\n",
              "      <td>수원</td>\n",
              "      <td>1193894</td>\n",
              "      <td>601097</td>\n",
              "      <td>592797</td>\n",
              "      <td>1193894</td>\n",
              "    </tr>\n",
              "    <tr>\n",
              "      <th>7</th>\n",
              "      <td>울산</td>\n",
              "      <td>1147037</td>\n",
              "      <td>589233</td>\n",
              "      <td>557804</td>\n",
              "      <td>1147037</td>\n",
              "    </tr>\n",
              "    <tr>\n",
              "      <th>8</th>\n",
              "      <td>고양</td>\n",
              "      <td>1068641</td>\n",
              "      <td>523803</td>\n",
              "      <td>544838</td>\n",
              "      <td>1068641</td>\n",
              "    </tr>\n",
              "    <tr>\n",
              "      <th>9</th>\n",
              "      <td>용인</td>\n",
              "      <td>1061440</td>\n",
              "      <td>526824</td>\n",
              "      <td>534617</td>\n",
              "      <td>1061441</td>\n",
              "    </tr>\n",
              "    <tr>\n",
              "      <th>10</th>\n",
              "      <td>총합</td>\n",
              "      <td>26030340</td>\n",
              "      <td>12880779</td>\n",
              "      <td>13150052</td>\n",
              "      <td>26030831</td>\n",
              "    </tr>\n",
              "  </tbody>\n",
              "</table>\n",
              "</div>"
            ],
            "text/plain": [
              "    도시       인구수        남자        여자   남자 + 여자\n",
              "0   서울   9741381   4757642   4984229   9741871\n",
              "1   부산   3416918   1680933   1735985   3416918\n",
              "2   인천   2925967   1472081   1453886   2925967\n",
              "3   대구   2453041   1218326   1234715   2453041\n",
              "4   대전   1525849    765718    760131   1525849\n",
              "5   광주   1496172    745122    751050   1496172\n",
              "6   수원   1193894    601097    592797   1193894\n",
              "7   울산   1147037    589233    557804   1147037\n",
              "8   고양   1068641    523803    544838   1068641\n",
              "9   용인   1061440    526824    534617   1061441\n",
              "10  총합  26030340  12880779  13150052  26030831"
            ]
          },
          "metadata": {
            "tags": []
          },
          "execution_count": 22
        }
      ]
    },
    {
      "cell_type": "code",
      "metadata": {
        "colab": {
          "base_uri": "https://localhost:8080/",
          "height": 390
        },
        "id": "IJBGTemyADff",
        "outputId": "8cfc8519-d5e5-4564-89d1-03c0456263da"
      },
      "source": [
        "data['남자 - 여자'] = data['남자'] - data['여자']\n",
        "data"
      ],
      "execution_count": 23,
      "outputs": [
        {
          "output_type": "execute_result",
          "data": {
            "text/html": [
              "<div>\n",
              "<style scoped>\n",
              "    .dataframe tbody tr th:only-of-type {\n",
              "        vertical-align: middle;\n",
              "    }\n",
              "\n",
              "    .dataframe tbody tr th {\n",
              "        vertical-align: top;\n",
              "    }\n",
              "\n",
              "    .dataframe thead th {\n",
              "        text-align: right;\n",
              "    }\n",
              "</style>\n",
              "<table border=\"1\" class=\"dataframe\">\n",
              "  <thead>\n",
              "    <tr style=\"text-align: right;\">\n",
              "      <th></th>\n",
              "      <th>도시</th>\n",
              "      <th>인구수</th>\n",
              "      <th>남자</th>\n",
              "      <th>여자</th>\n",
              "      <th>남자 + 여자</th>\n",
              "      <th>남자 - 여자</th>\n",
              "    </tr>\n",
              "  </thead>\n",
              "  <tbody>\n",
              "    <tr>\n",
              "      <th>0</th>\n",
              "      <td>서울</td>\n",
              "      <td>9741381</td>\n",
              "      <td>4757642</td>\n",
              "      <td>4984229</td>\n",
              "      <td>9741871</td>\n",
              "      <td>-226587</td>\n",
              "    </tr>\n",
              "    <tr>\n",
              "      <th>1</th>\n",
              "      <td>부산</td>\n",
              "      <td>3416918</td>\n",
              "      <td>1680933</td>\n",
              "      <td>1735985</td>\n",
              "      <td>3416918</td>\n",
              "      <td>-55052</td>\n",
              "    </tr>\n",
              "    <tr>\n",
              "      <th>2</th>\n",
              "      <td>인천</td>\n",
              "      <td>2925967</td>\n",
              "      <td>1472081</td>\n",
              "      <td>1453886</td>\n",
              "      <td>2925967</td>\n",
              "      <td>18195</td>\n",
              "    </tr>\n",
              "    <tr>\n",
              "      <th>3</th>\n",
              "      <td>대구</td>\n",
              "      <td>2453041</td>\n",
              "      <td>1218326</td>\n",
              "      <td>1234715</td>\n",
              "      <td>2453041</td>\n",
              "      <td>-16389</td>\n",
              "    </tr>\n",
              "    <tr>\n",
              "      <th>4</th>\n",
              "      <td>대전</td>\n",
              "      <td>1525849</td>\n",
              "      <td>765718</td>\n",
              "      <td>760131</td>\n",
              "      <td>1525849</td>\n",
              "      <td>5587</td>\n",
              "    </tr>\n",
              "    <tr>\n",
              "      <th>5</th>\n",
              "      <td>광주</td>\n",
              "      <td>1496172</td>\n",
              "      <td>745122</td>\n",
              "      <td>751050</td>\n",
              "      <td>1496172</td>\n",
              "      <td>-5928</td>\n",
              "    </tr>\n",
              "    <tr>\n",
              "      <th>6</th>\n",
              "      <td>수원</td>\n",
              "      <td>1193894</td>\n",
              "      <td>601097</td>\n",
              "      <td>592797</td>\n",
              "      <td>1193894</td>\n",
              "      <td>8300</td>\n",
              "    </tr>\n",
              "    <tr>\n",
              "      <th>7</th>\n",
              "      <td>울산</td>\n",
              "      <td>1147037</td>\n",
              "      <td>589233</td>\n",
              "      <td>557804</td>\n",
              "      <td>1147037</td>\n",
              "      <td>31429</td>\n",
              "    </tr>\n",
              "    <tr>\n",
              "      <th>8</th>\n",
              "      <td>고양</td>\n",
              "      <td>1068641</td>\n",
              "      <td>523803</td>\n",
              "      <td>544838</td>\n",
              "      <td>1068641</td>\n",
              "      <td>-21035</td>\n",
              "    </tr>\n",
              "    <tr>\n",
              "      <th>9</th>\n",
              "      <td>용인</td>\n",
              "      <td>1061440</td>\n",
              "      <td>526824</td>\n",
              "      <td>534617</td>\n",
              "      <td>1061441</td>\n",
              "      <td>-7793</td>\n",
              "    </tr>\n",
              "    <tr>\n",
              "      <th>10</th>\n",
              "      <td>총합</td>\n",
              "      <td>26030340</td>\n",
              "      <td>12880779</td>\n",
              "      <td>13150052</td>\n",
              "      <td>26030831</td>\n",
              "      <td>-269273</td>\n",
              "    </tr>\n",
              "  </tbody>\n",
              "</table>\n",
              "</div>"
            ],
            "text/plain": [
              "    도시       인구수        남자        여자   남자 + 여자  남자 - 여자\n",
              "0   서울   9741381   4757642   4984229   9741871  -226587\n",
              "1   부산   3416918   1680933   1735985   3416918   -55052\n",
              "2   인천   2925967   1472081   1453886   2925967    18195\n",
              "3   대구   2453041   1218326   1234715   2453041   -16389\n",
              "4   대전   1525849    765718    760131   1525849     5587\n",
              "5   광주   1496172    745122    751050   1496172    -5928\n",
              "6   수원   1193894    601097    592797   1193894     8300\n",
              "7   울산   1147037    589233    557804   1147037    31429\n",
              "8   고양   1068641    523803    544838   1068641   -21035\n",
              "9   용인   1061440    526824    534617   1061441    -7793\n",
              "10  총합  26030340  12880779  13150052  26030831  -269273"
            ]
          },
          "metadata": {
            "tags": []
          },
          "execution_count": 23
        }
      ]
    },
    {
      "cell_type": "code",
      "metadata": {
        "colab": {
          "base_uri": "https://localhost:8080/",
          "height": 390
        },
        "id": "AzDX5_PVAOBG",
        "outputId": "06db0b61-d56c-418e-9e40-d85889dd5d18"
      },
      "source": [
        "data['남자 - 여자의 절댓값'] = data['남자 - 여자'].abs()\n",
        "data"
      ],
      "execution_count": 24,
      "outputs": [
        {
          "output_type": "execute_result",
          "data": {
            "text/html": [
              "<div>\n",
              "<style scoped>\n",
              "    .dataframe tbody tr th:only-of-type {\n",
              "        vertical-align: middle;\n",
              "    }\n",
              "\n",
              "    .dataframe tbody tr th {\n",
              "        vertical-align: top;\n",
              "    }\n",
              "\n",
              "    .dataframe thead th {\n",
              "        text-align: right;\n",
              "    }\n",
              "</style>\n",
              "<table border=\"1\" class=\"dataframe\">\n",
              "  <thead>\n",
              "    <tr style=\"text-align: right;\">\n",
              "      <th></th>\n",
              "      <th>도시</th>\n",
              "      <th>인구수</th>\n",
              "      <th>남자</th>\n",
              "      <th>여자</th>\n",
              "      <th>남자 + 여자</th>\n",
              "      <th>남자 - 여자</th>\n",
              "      <th>남자 - 여자의 절댓값</th>\n",
              "    </tr>\n",
              "  </thead>\n",
              "  <tbody>\n",
              "    <tr>\n",
              "      <th>0</th>\n",
              "      <td>서울</td>\n",
              "      <td>9741381</td>\n",
              "      <td>4757642</td>\n",
              "      <td>4984229</td>\n",
              "      <td>9741871</td>\n",
              "      <td>-226587</td>\n",
              "      <td>226587</td>\n",
              "    </tr>\n",
              "    <tr>\n",
              "      <th>1</th>\n",
              "      <td>부산</td>\n",
              "      <td>3416918</td>\n",
              "      <td>1680933</td>\n",
              "      <td>1735985</td>\n",
              "      <td>3416918</td>\n",
              "      <td>-55052</td>\n",
              "      <td>55052</td>\n",
              "    </tr>\n",
              "    <tr>\n",
              "      <th>2</th>\n",
              "      <td>인천</td>\n",
              "      <td>2925967</td>\n",
              "      <td>1472081</td>\n",
              "      <td>1453886</td>\n",
              "      <td>2925967</td>\n",
              "      <td>18195</td>\n",
              "      <td>18195</td>\n",
              "    </tr>\n",
              "    <tr>\n",
              "      <th>3</th>\n",
              "      <td>대구</td>\n",
              "      <td>2453041</td>\n",
              "      <td>1218326</td>\n",
              "      <td>1234715</td>\n",
              "      <td>2453041</td>\n",
              "      <td>-16389</td>\n",
              "      <td>16389</td>\n",
              "    </tr>\n",
              "    <tr>\n",
              "      <th>4</th>\n",
              "      <td>대전</td>\n",
              "      <td>1525849</td>\n",
              "      <td>765718</td>\n",
              "      <td>760131</td>\n",
              "      <td>1525849</td>\n",
              "      <td>5587</td>\n",
              "      <td>5587</td>\n",
              "    </tr>\n",
              "    <tr>\n",
              "      <th>5</th>\n",
              "      <td>광주</td>\n",
              "      <td>1496172</td>\n",
              "      <td>745122</td>\n",
              "      <td>751050</td>\n",
              "      <td>1496172</td>\n",
              "      <td>-5928</td>\n",
              "      <td>5928</td>\n",
              "    </tr>\n",
              "    <tr>\n",
              "      <th>6</th>\n",
              "      <td>수원</td>\n",
              "      <td>1193894</td>\n",
              "      <td>601097</td>\n",
              "      <td>592797</td>\n",
              "      <td>1193894</td>\n",
              "      <td>8300</td>\n",
              "      <td>8300</td>\n",
              "    </tr>\n",
              "    <tr>\n",
              "      <th>7</th>\n",
              "      <td>울산</td>\n",
              "      <td>1147037</td>\n",
              "      <td>589233</td>\n",
              "      <td>557804</td>\n",
              "      <td>1147037</td>\n",
              "      <td>31429</td>\n",
              "      <td>31429</td>\n",
              "    </tr>\n",
              "    <tr>\n",
              "      <th>8</th>\n",
              "      <td>고양</td>\n",
              "      <td>1068641</td>\n",
              "      <td>523803</td>\n",
              "      <td>544838</td>\n",
              "      <td>1068641</td>\n",
              "      <td>-21035</td>\n",
              "      <td>21035</td>\n",
              "    </tr>\n",
              "    <tr>\n",
              "      <th>9</th>\n",
              "      <td>용인</td>\n",
              "      <td>1061440</td>\n",
              "      <td>526824</td>\n",
              "      <td>534617</td>\n",
              "      <td>1061441</td>\n",
              "      <td>-7793</td>\n",
              "      <td>7793</td>\n",
              "    </tr>\n",
              "    <tr>\n",
              "      <th>10</th>\n",
              "      <td>총합</td>\n",
              "      <td>26030340</td>\n",
              "      <td>12880779</td>\n",
              "      <td>13150052</td>\n",
              "      <td>26030831</td>\n",
              "      <td>-269273</td>\n",
              "      <td>269273</td>\n",
              "    </tr>\n",
              "  </tbody>\n",
              "</table>\n",
              "</div>"
            ],
            "text/plain": [
              "    도시       인구수        남자        여자   남자 + 여자  남자 - 여자  남자 - 여자의 절댓값\n",
              "0   서울   9741381   4757642   4984229   9741871  -226587        226587\n",
              "1   부산   3416918   1680933   1735985   3416918   -55052         55052\n",
              "2   인천   2925967   1472081   1453886   2925967    18195         18195\n",
              "3   대구   2453041   1218326   1234715   2453041   -16389         16389\n",
              "4   대전   1525849    765718    760131   1525849     5587          5587\n",
              "5   광주   1496172    745122    751050   1496172    -5928          5928\n",
              "6   수원   1193894    601097    592797   1193894     8300          8300\n",
              "7   울산   1147037    589233    557804   1147037    31429         31429\n",
              "8   고양   1068641    523803    544838   1068641   -21035         21035\n",
              "9   용인   1061440    526824    534617   1061441    -7793          7793\n",
              "10  총합  26030340  12880779  13150052  26030831  -269273        269273"
            ]
          },
          "metadata": {
            "tags": []
          },
          "execution_count": 24
        }
      ]
    },
    {
      "cell_type": "code",
      "metadata": {
        "colab": {
          "base_uri": "https://localhost:8080/",
          "height": 594
        },
        "id": "G5Xj7skgAWou",
        "outputId": "acee3aa3-1868-4d6f-9822-bab5adb1b311"
      },
      "source": [
        "data['성비'] = data['남자']/ data['여자']\n",
        "data"
      ],
      "execution_count": 25,
      "outputs": [
        {
          "output_type": "execute_result",
          "data": {
            "text/html": [
              "<div>\n",
              "<style scoped>\n",
              "    .dataframe tbody tr th:only-of-type {\n",
              "        vertical-align: middle;\n",
              "    }\n",
              "\n",
              "    .dataframe tbody tr th {\n",
              "        vertical-align: top;\n",
              "    }\n",
              "\n",
              "    .dataframe thead th {\n",
              "        text-align: right;\n",
              "    }\n",
              "</style>\n",
              "<table border=\"1\" class=\"dataframe\">\n",
              "  <thead>\n",
              "    <tr style=\"text-align: right;\">\n",
              "      <th></th>\n",
              "      <th>도시</th>\n",
              "      <th>인구수</th>\n",
              "      <th>남자</th>\n",
              "      <th>여자</th>\n",
              "      <th>남자 + 여자</th>\n",
              "      <th>남자 - 여자</th>\n",
              "      <th>남자 - 여자의 절댓값</th>\n",
              "      <th>성비</th>\n",
              "    </tr>\n",
              "  </thead>\n",
              "  <tbody>\n",
              "    <tr>\n",
              "      <th>0</th>\n",
              "      <td>서울</td>\n",
              "      <td>9741381</td>\n",
              "      <td>4757642</td>\n",
              "      <td>4984229</td>\n",
              "      <td>9741871</td>\n",
              "      <td>-226587</td>\n",
              "      <td>226587</td>\n",
              "      <td>0.954539</td>\n",
              "    </tr>\n",
              "    <tr>\n",
              "      <th>1</th>\n",
              "      <td>부산</td>\n",
              "      <td>3416918</td>\n",
              "      <td>1680933</td>\n",
              "      <td>1735985</td>\n",
              "      <td>3416918</td>\n",
              "      <td>-55052</td>\n",
              "      <td>55052</td>\n",
              "      <td>0.968288</td>\n",
              "    </tr>\n",
              "    <tr>\n",
              "      <th>2</th>\n",
              "      <td>인천</td>\n",
              "      <td>2925967</td>\n",
              "      <td>1472081</td>\n",
              "      <td>1453886</td>\n",
              "      <td>2925967</td>\n",
              "      <td>18195</td>\n",
              "      <td>18195</td>\n",
              "      <td>1.012515</td>\n",
              "    </tr>\n",
              "    <tr>\n",
              "      <th>3</th>\n",
              "      <td>대구</td>\n",
              "      <td>2453041</td>\n",
              "      <td>1218326</td>\n",
              "      <td>1234715</td>\n",
              "      <td>2453041</td>\n",
              "      <td>-16389</td>\n",
              "      <td>16389</td>\n",
              "      <td>0.986726</td>\n",
              "    </tr>\n",
              "    <tr>\n",
              "      <th>4</th>\n",
              "      <td>대전</td>\n",
              "      <td>1525849</td>\n",
              "      <td>765718</td>\n",
              "      <td>760131</td>\n",
              "      <td>1525849</td>\n",
              "      <td>5587</td>\n",
              "      <td>5587</td>\n",
              "      <td>1.007350</td>\n",
              "    </tr>\n",
              "    <tr>\n",
              "      <th>5</th>\n",
              "      <td>광주</td>\n",
              "      <td>1496172</td>\n",
              "      <td>745122</td>\n",
              "      <td>751050</td>\n",
              "      <td>1496172</td>\n",
              "      <td>-5928</td>\n",
              "      <td>5928</td>\n",
              "      <td>0.992107</td>\n",
              "    </tr>\n",
              "    <tr>\n",
              "      <th>6</th>\n",
              "      <td>수원</td>\n",
              "      <td>1193894</td>\n",
              "      <td>601097</td>\n",
              "      <td>592797</td>\n",
              "      <td>1193894</td>\n",
              "      <td>8300</td>\n",
              "      <td>8300</td>\n",
              "      <td>1.014001</td>\n",
              "    </tr>\n",
              "    <tr>\n",
              "      <th>7</th>\n",
              "      <td>울산</td>\n",
              "      <td>1147037</td>\n",
              "      <td>589233</td>\n",
              "      <td>557804</td>\n",
              "      <td>1147037</td>\n",
              "      <td>31429</td>\n",
              "      <td>31429</td>\n",
              "      <td>1.056344</td>\n",
              "    </tr>\n",
              "    <tr>\n",
              "      <th>8</th>\n",
              "      <td>고양</td>\n",
              "      <td>1068641</td>\n",
              "      <td>523803</td>\n",
              "      <td>544838</td>\n",
              "      <td>1068641</td>\n",
              "      <td>-21035</td>\n",
              "      <td>21035</td>\n",
              "      <td>0.961392</td>\n",
              "    </tr>\n",
              "    <tr>\n",
              "      <th>9</th>\n",
              "      <td>용인</td>\n",
              "      <td>1061440</td>\n",
              "      <td>526824</td>\n",
              "      <td>534617</td>\n",
              "      <td>1061441</td>\n",
              "      <td>-7793</td>\n",
              "      <td>7793</td>\n",
              "      <td>0.985423</td>\n",
              "    </tr>\n",
              "    <tr>\n",
              "      <th>10</th>\n",
              "      <td>총합</td>\n",
              "      <td>26030340</td>\n",
              "      <td>12880779</td>\n",
              "      <td>13150052</td>\n",
              "      <td>26030831</td>\n",
              "      <td>-269273</td>\n",
              "      <td>269273</td>\n",
              "      <td>0.979523</td>\n",
              "    </tr>\n",
              "  </tbody>\n",
              "</table>\n",
              "</div>"
            ],
            "text/plain": [
              "    도시       인구수        남자        여자   남자 + 여자  남자 - 여자  남자 - 여자의 절댓값        성비\n",
              "0   서울   9741381   4757642   4984229   9741871  -226587        226587  0.954539\n",
              "1   부산   3416918   1680933   1735985   3416918   -55052         55052  0.968288\n",
              "2   인천   2925967   1472081   1453886   2925967    18195         18195  1.012515\n",
              "3   대구   2453041   1218326   1234715   2453041   -16389         16389  0.986726\n",
              "4   대전   1525849    765718    760131   1525849     5587          5587  1.007350\n",
              "5   광주   1496172    745122    751050   1496172    -5928          5928  0.992107\n",
              "6   수원   1193894    601097    592797   1193894     8300          8300  1.014001\n",
              "7   울산   1147037    589233    557804   1147037    31429         31429  1.056344\n",
              "8   고양   1068641    523803    544838   1068641   -21035         21035  0.961392\n",
              "9   용인   1061440    526824    534617   1061441    -7793          7793  0.985423\n",
              "10  총합  26030340  12880779  13150052  26030831  -269273        269273  0.979523"
            ]
          },
          "metadata": {
            "tags": []
          },
          "execution_count": 25
        }
      ]
    },
    {
      "cell_type": "code",
      "metadata": {
        "colab": {
          "base_uri": "https://localhost:8080/",
          "height": 611
        },
        "id": "G7l7_UtaAieY",
        "outputId": "f2181b92-1bfb-4922-abc1-e5d9c5c30c8a"
      },
      "source": [
        "data['여자100명장_남자수'] = data['성비']*100\n",
        "data"
      ],
      "execution_count": 27,
      "outputs": [
        {
          "output_type": "execute_result",
          "data": {
            "text/html": [
              "<div>\n",
              "<style scoped>\n",
              "    .dataframe tbody tr th:only-of-type {\n",
              "        vertical-align: middle;\n",
              "    }\n",
              "\n",
              "    .dataframe tbody tr th {\n",
              "        vertical-align: top;\n",
              "    }\n",
              "\n",
              "    .dataframe thead th {\n",
              "        text-align: right;\n",
              "    }\n",
              "</style>\n",
              "<table border=\"1\" class=\"dataframe\">\n",
              "  <thead>\n",
              "    <tr style=\"text-align: right;\">\n",
              "      <th></th>\n",
              "      <th>도시</th>\n",
              "      <th>인구수</th>\n",
              "      <th>남자</th>\n",
              "      <th>여자</th>\n",
              "      <th>남자 + 여자</th>\n",
              "      <th>남자 - 여자</th>\n",
              "      <th>남자 - 여자의 절댓값</th>\n",
              "      <th>성비</th>\n",
              "      <th>여자100명장_남자수</th>\n",
              "    </tr>\n",
              "  </thead>\n",
              "  <tbody>\n",
              "    <tr>\n",
              "      <th>0</th>\n",
              "      <td>서울</td>\n",
              "      <td>9741381</td>\n",
              "      <td>4757642</td>\n",
              "      <td>4984229</td>\n",
              "      <td>9741871</td>\n",
              "      <td>-226587</td>\n",
              "      <td>226587</td>\n",
              "      <td>0.954539</td>\n",
              "      <td>95.453921</td>\n",
              "    </tr>\n",
              "    <tr>\n",
              "      <th>1</th>\n",
              "      <td>부산</td>\n",
              "      <td>3416918</td>\n",
              "      <td>1680933</td>\n",
              "      <td>1735985</td>\n",
              "      <td>3416918</td>\n",
              "      <td>-55052</td>\n",
              "      <td>55052</td>\n",
              "      <td>0.968288</td>\n",
              "      <td>96.828774</td>\n",
              "    </tr>\n",
              "    <tr>\n",
              "      <th>2</th>\n",
              "      <td>인천</td>\n",
              "      <td>2925967</td>\n",
              "      <td>1472081</td>\n",
              "      <td>1453886</td>\n",
              "      <td>2925967</td>\n",
              "      <td>18195</td>\n",
              "      <td>18195</td>\n",
              "      <td>1.012515</td>\n",
              "      <td>101.251474</td>\n",
              "    </tr>\n",
              "    <tr>\n",
              "      <th>3</th>\n",
              "      <td>대구</td>\n",
              "      <td>2453041</td>\n",
              "      <td>1218326</td>\n",
              "      <td>1234715</td>\n",
              "      <td>2453041</td>\n",
              "      <td>-16389</td>\n",
              "      <td>16389</td>\n",
              "      <td>0.986726</td>\n",
              "      <td>98.672649</td>\n",
              "    </tr>\n",
              "    <tr>\n",
              "      <th>4</th>\n",
              "      <td>대전</td>\n",
              "      <td>1525849</td>\n",
              "      <td>765718</td>\n",
              "      <td>760131</td>\n",
              "      <td>1525849</td>\n",
              "      <td>5587</td>\n",
              "      <td>5587</td>\n",
              "      <td>1.007350</td>\n",
              "      <td>100.735005</td>\n",
              "    </tr>\n",
              "    <tr>\n",
              "      <th>5</th>\n",
              "      <td>광주</td>\n",
              "      <td>1496172</td>\n",
              "      <td>745122</td>\n",
              "      <td>751050</td>\n",
              "      <td>1496172</td>\n",
              "      <td>-5928</td>\n",
              "      <td>5928</td>\n",
              "      <td>0.992107</td>\n",
              "      <td>99.210705</td>\n",
              "    </tr>\n",
              "    <tr>\n",
              "      <th>6</th>\n",
              "      <td>수원</td>\n",
              "      <td>1193894</td>\n",
              "      <td>601097</td>\n",
              "      <td>592797</td>\n",
              "      <td>1193894</td>\n",
              "      <td>8300</td>\n",
              "      <td>8300</td>\n",
              "      <td>1.014001</td>\n",
              "      <td>101.400142</td>\n",
              "    </tr>\n",
              "    <tr>\n",
              "      <th>7</th>\n",
              "      <td>울산</td>\n",
              "      <td>1147037</td>\n",
              "      <td>589233</td>\n",
              "      <td>557804</td>\n",
              "      <td>1147037</td>\n",
              "      <td>31429</td>\n",
              "      <td>31429</td>\n",
              "      <td>1.056344</td>\n",
              "      <td>105.634416</td>\n",
              "    </tr>\n",
              "    <tr>\n",
              "      <th>8</th>\n",
              "      <td>고양</td>\n",
              "      <td>1068641</td>\n",
              "      <td>523803</td>\n",
              "      <td>544838</td>\n",
              "      <td>1068641</td>\n",
              "      <td>-21035</td>\n",
              "      <td>21035</td>\n",
              "      <td>0.961392</td>\n",
              "      <td>96.139219</td>\n",
              "    </tr>\n",
              "    <tr>\n",
              "      <th>9</th>\n",
              "      <td>용인</td>\n",
              "      <td>1061440</td>\n",
              "      <td>526824</td>\n",
              "      <td>534617</td>\n",
              "      <td>1061441</td>\n",
              "      <td>-7793</td>\n",
              "      <td>7793</td>\n",
              "      <td>0.985423</td>\n",
              "      <td>98.542321</td>\n",
              "    </tr>\n",
              "    <tr>\n",
              "      <th>10</th>\n",
              "      <td>총합</td>\n",
              "      <td>26030340</td>\n",
              "      <td>12880779</td>\n",
              "      <td>13150052</td>\n",
              "      <td>26030831</td>\n",
              "      <td>-269273</td>\n",
              "      <td>269273</td>\n",
              "      <td>0.979523</td>\n",
              "      <td>97.952305</td>\n",
              "    </tr>\n",
              "  </tbody>\n",
              "</table>\n",
              "</div>"
            ],
            "text/plain": [
              "    도시       인구수        남자  ...  남자 - 여자의 절댓값        성비  여자100명장_남자수\n",
              "0   서울   9741381   4757642  ...        226587  0.954539    95.453921\n",
              "1   부산   3416918   1680933  ...         55052  0.968288    96.828774\n",
              "2   인천   2925967   1472081  ...         18195  1.012515   101.251474\n",
              "3   대구   2453041   1218326  ...         16389  0.986726    98.672649\n",
              "4   대전   1525849    765718  ...          5587  1.007350   100.735005\n",
              "5   광주   1496172    745122  ...          5928  0.992107    99.210705\n",
              "6   수원   1193894    601097  ...          8300  1.014001   101.400142\n",
              "7   울산   1147037    589233  ...         31429  1.056344   105.634416\n",
              "8   고양   1068641    523803  ...         21035  0.961392    96.139219\n",
              "9   용인   1061440    526824  ...          7793  0.985423    98.542321\n",
              "10  총합  26030340  12880779  ...        269273  0.979523    97.952305\n",
              "\n",
              "[11 rows x 9 columns]"
            ]
          },
          "metadata": {
            "tags": []
          },
          "execution_count": 27
        }
      ]
    },
    {
      "cell_type": "markdown",
      "metadata": {
        "id": "8mo3fbadA82_"
      },
      "source": [
        "비교연산자"
      ]
    },
    {
      "cell_type": "code",
      "metadata": {
        "colab": {
          "base_uri": "https://localhost:8080/"
        },
        "id": "XQy-aifbA_Z_",
        "outputId": "a5830e2f-4dcc-4c9c-a64d-019e64fd20e1"
      },
      "source": [
        "data['인구수'] >= 2000000"
      ],
      "execution_count": 29,
      "outputs": [
        {
          "output_type": "execute_result",
          "data": {
            "text/plain": [
              "0      True\n",
              "1      True\n",
              "2      True\n",
              "3      True\n",
              "4     False\n",
              "5     False\n",
              "6     False\n",
              "7     False\n",
              "8     False\n",
              "9     False\n",
              "10     True\n",
              "Name: 인구수, dtype: bool"
            ]
          },
          "metadata": {
            "tags": []
          },
          "execution_count": 29
        }
      ]
    },
    {
      "cell_type": "code",
      "metadata": {
        "colab": {
          "base_uri": "https://localhost:8080/"
        },
        "id": "CqSyUbTtBG-m",
        "outputId": "6710cbdc-a3b9-4421-e026-a0cb1afe6467"
      },
      "source": [
        "(data['인구수'] >= 2000000).sum()"
      ],
      "execution_count": 30,
      "outputs": [
        {
          "output_type": "execute_result",
          "data": {
            "text/plain": [
              "5"
            ]
          },
          "metadata": {
            "tags": []
          },
          "execution_count": 30
        }
      ]
    },
    {
      "cell_type": "code",
      "metadata": {
        "colab": {
          "base_uri": "https://localhost:8080/",
          "height": 323
        },
        "id": "6sHlJaCLBTgH",
        "outputId": "b7fbb96b-e151-4ad2-9422-f1b16ff7a469"
      },
      "source": [
        "data[data['인구수'] >= 2e+6]"
      ],
      "execution_count": 31,
      "outputs": [
        {
          "output_type": "execute_result",
          "data": {
            "text/html": [
              "<div>\n",
              "<style scoped>\n",
              "    .dataframe tbody tr th:only-of-type {\n",
              "        vertical-align: middle;\n",
              "    }\n",
              "\n",
              "    .dataframe tbody tr th {\n",
              "        vertical-align: top;\n",
              "    }\n",
              "\n",
              "    .dataframe thead th {\n",
              "        text-align: right;\n",
              "    }\n",
              "</style>\n",
              "<table border=\"1\" class=\"dataframe\">\n",
              "  <thead>\n",
              "    <tr style=\"text-align: right;\">\n",
              "      <th></th>\n",
              "      <th>도시</th>\n",
              "      <th>인구수</th>\n",
              "      <th>남자</th>\n",
              "      <th>여자</th>\n",
              "      <th>남자 + 여자</th>\n",
              "      <th>남자 - 여자</th>\n",
              "      <th>남자 - 여자의 절댓값</th>\n",
              "      <th>성비</th>\n",
              "      <th>여자100명장_남자수</th>\n",
              "    </tr>\n",
              "  </thead>\n",
              "  <tbody>\n",
              "    <tr>\n",
              "      <th>0</th>\n",
              "      <td>서울</td>\n",
              "      <td>9741381</td>\n",
              "      <td>4757642</td>\n",
              "      <td>4984229</td>\n",
              "      <td>9741871</td>\n",
              "      <td>-226587</td>\n",
              "      <td>226587</td>\n",
              "      <td>0.954539</td>\n",
              "      <td>95.453921</td>\n",
              "    </tr>\n",
              "    <tr>\n",
              "      <th>1</th>\n",
              "      <td>부산</td>\n",
              "      <td>3416918</td>\n",
              "      <td>1680933</td>\n",
              "      <td>1735985</td>\n",
              "      <td>3416918</td>\n",
              "      <td>-55052</td>\n",
              "      <td>55052</td>\n",
              "      <td>0.968288</td>\n",
              "      <td>96.828774</td>\n",
              "    </tr>\n",
              "    <tr>\n",
              "      <th>2</th>\n",
              "      <td>인천</td>\n",
              "      <td>2925967</td>\n",
              "      <td>1472081</td>\n",
              "      <td>1453886</td>\n",
              "      <td>2925967</td>\n",
              "      <td>18195</td>\n",
              "      <td>18195</td>\n",
              "      <td>1.012515</td>\n",
              "      <td>101.251474</td>\n",
              "    </tr>\n",
              "    <tr>\n",
              "      <th>3</th>\n",
              "      <td>대구</td>\n",
              "      <td>2453041</td>\n",
              "      <td>1218326</td>\n",
              "      <td>1234715</td>\n",
              "      <td>2453041</td>\n",
              "      <td>-16389</td>\n",
              "      <td>16389</td>\n",
              "      <td>0.986726</td>\n",
              "      <td>98.672649</td>\n",
              "    </tr>\n",
              "    <tr>\n",
              "      <th>10</th>\n",
              "      <td>총합</td>\n",
              "      <td>26030340</td>\n",
              "      <td>12880779</td>\n",
              "      <td>13150052</td>\n",
              "      <td>26030831</td>\n",
              "      <td>-269273</td>\n",
              "      <td>269273</td>\n",
              "      <td>0.979523</td>\n",
              "      <td>97.952305</td>\n",
              "    </tr>\n",
              "  </tbody>\n",
              "</table>\n",
              "</div>"
            ],
            "text/plain": [
              "    도시       인구수        남자  ...  남자 - 여자의 절댓값        성비  여자100명장_남자수\n",
              "0   서울   9741381   4757642  ...        226587  0.954539    95.453921\n",
              "1   부산   3416918   1680933  ...         55052  0.968288    96.828774\n",
              "2   인천   2925967   1472081  ...         18195  1.012515   101.251474\n",
              "3   대구   2453041   1218326  ...         16389  0.986726    98.672649\n",
              "10  총합  26030340  12880779  ...        269273  0.979523    97.952305\n",
              "\n",
              "[5 rows x 9 columns]"
            ]
          },
          "metadata": {
            "tags": []
          },
          "execution_count": 31
        }
      ]
    },
    {
      "cell_type": "code",
      "metadata": {
        "colab": {
          "base_uri": "https://localhost:8080/"
        },
        "id": "r0Q9BwXlBZQ3",
        "outputId": "dd4bdbed-8b7a-419d-c853-cd3ff4bd882b"
      },
      "source": [
        "data[data['인구수'] >= 2e+6]['도시']"
      ],
      "execution_count": 32,
      "outputs": [
        {
          "output_type": "execute_result",
          "data": {
            "text/plain": [
              "0     서울\n",
              "1     부산\n",
              "2     인천\n",
              "3     대구\n",
              "10    총합\n",
              "Name: 도시, dtype: object"
            ]
          },
          "metadata": {
            "tags": []
          },
          "execution_count": 32
        }
      ]
    },
    {
      "cell_type": "code",
      "metadata": {
        "colab": {
          "base_uri": "https://localhost:8080/"
        },
        "id": "GGVFEnaIBiT2",
        "outputId": "e9cfbace-d2e4-464d-86c4-cd0bb9ef6c0b"
      },
      "source": [
        "data[data['인구수'] >= data['인구수'][:-1].median()]['도시'][:-1] #총합 제외 중앙값 이상인 도시들의 이름"
      ],
      "execution_count": 37,
      "outputs": [
        {
          "output_type": "execute_result",
          "data": {
            "text/plain": [
              "0    서울\n",
              "1    부산\n",
              "2    인천\n",
              "3    대구\n",
              "4    대전\n",
              "Name: 도시, dtype: object"
            ]
          },
          "metadata": {
            "tags": []
          },
          "execution_count": 37
        }
      ]
    },
    {
      "cell_type": "code",
      "metadata": {
        "colab": {
          "base_uri": "https://localhost:8080/"
        },
        "id": "E2TD3a5CB8MX",
        "outputId": "3f672fcd-5716-48be-a46d-9850e6195bd1"
      },
      "source": [
        "data[data['남자'] > data['여자']]['도시']"
      ],
      "execution_count": 38,
      "outputs": [
        {
          "output_type": "execute_result",
          "data": {
            "text/plain": [
              "2    인천\n",
              "4    대전\n",
              "6    수원\n",
              "7    울산\n",
              "Name: 도시, dtype: object"
            ]
          },
          "metadata": {
            "tags": []
          },
          "execution_count": 38
        }
      ]
    }
  ]
}